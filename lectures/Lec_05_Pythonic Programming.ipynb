{
 "cells": [
  {
   "cell_type": "markdown",
   "metadata": {},
   "source": [
    "# Lec_05_Pythonic Programming\n",
    "\n",
    "<font size=5><b><b></font>\n",
    "<div align='right'> Hoe Sung Ryu ( 류 회 성 ) </div>\n",
    "<div align='right'> Minsuk Sung ( 성 민 석) </div>\n",
    "    \n",
    "    \n",
    "---\n",
    "    \n",
    "Syllabus\n",
    "\n",
    "|Event Type|Date|Topic|\n",
    "|--:|:---:|:---|\n",
    "|1 |July 27| Environment setting and Python basic|\n",
    "|2 |July 28| Pytorch basic and Custom Data load |\n",
    "|3 |July 29| Traditional Machine Learning(1) |\n",
    "|4 |July 30| Traditional Machine Learning(2) |\n",
    "|5 |July 31| CNN(Convolutional Neural Network)(1)  |\n",
    "|6 |Aug 03| CNN(Convolutional NeuralNetwork)(2) |\n",
    "|7 |Aug 04|  RNN(Recurrent Neural Networks)(1) |\n",
    "|8 |Aug 05|  RNN(Recurrent Neural Networks)(2) |\n",
    "|9 |Aug 06|  Transfer learning(VGG pertained on ImageNEt for CIfar-10)| \n",
    "|10|Aug 07|**Mini_Kaggle**: Facial Expression Recognition on `AffectNet` | \n",
    "|11|Aug 08|`Awards` and `Closing`| \n",
    "        "
   ]
  },
  {
   "cell_type": "markdown",
   "metadata": {
    "toc": true
   },
   "source": [
    "<h1>Table of Contents<span class=\"tocSkip\"></span></h1>\n",
    "<div class=\"toc\"><ul class=\"toc-item\"><li><span><a href=\"#For-loop\" data-toc-modified-id=\"For-loop-1\"><span class=\"toc-item-num\">1&nbsp;&nbsp;</span>For loop</a></span><ul class=\"toc-item\"><li><span><a href=\"#For-loop-with-enumerate()\" data-toc-modified-id=\"For-loop-with-enumerate()-1.1\"><span class=\"toc-item-num\">1.1&nbsp;&nbsp;</span>For loop with <code>enumerate()</code></a></span></li><li><span><a href=\"#For-loop-with-zip()\" data-toc-modified-id=\"For-loop-with-zip()-1.2\"><span class=\"toc-item-num\">1.2&nbsp;&nbsp;</span>For loop with <code>zip()</code></a></span></li></ul></li><li><span><a href=\"#lambda\" data-toc-modified-id=\"lambda-2\"><span class=\"toc-item-num\">2&nbsp;&nbsp;</span>lambda</a></span></li><li><span><a href=\"#Map\" data-toc-modified-id=\"Map-3\"><span class=\"toc-item-num\">3&nbsp;&nbsp;</span>Map</a></span></li><li><span><a href=\"#reduce\" data-toc-modified-id=\"reduce-4\"><span class=\"toc-item-num\">4&nbsp;&nbsp;</span>reduce</a></span></li><li><span><a href=\"#Comprehension\" data-toc-modified-id=\"Comprehension-5\"><span class=\"toc-item-num\">5&nbsp;&nbsp;</span>Comprehension</a></span><ul class=\"toc-item\"><li><span><a href=\"#List-comprehension\" data-toc-modified-id=\"List-comprehension-5.1\"><span class=\"toc-item-num\">5.1&nbsp;&nbsp;</span>List comprehension</a></span></li></ul></li><li><span><a href=\"#Multiple-list-comprehension\" data-toc-modified-id=\"Multiple-list-comprehension-6\"><span class=\"toc-item-num\">6&nbsp;&nbsp;</span>Multiple list comprehension</a></span></li></ul></div>"
   ]
  },
  {
   "cell_type": "markdown",
   "metadata": {},
   "source": [
    "## For loop "
   ]
  },
  {
   "cell_type": "markdown",
   "metadata": {},
   "source": [
    "### For loop with `enumerate()`\n",
    "\n",
    "Often we need to create a loop through an array, where we will nee the index and value then use `enmerate()` to do this. \n"
   ]
  },
  {
   "cell_type": "code",
   "execution_count": 3,
   "metadata": {
    "ExecuteTime": {
     "end_time": "2020-07-26T15:25:33.309713Z",
     "start_time": "2020-07-26T15:25:33.305837Z"
    }
   },
   "outputs": [
    {
     "name": "stdout",
     "output_type": "stream",
     "text": [
      "0 8\n",
      "1 181\n",
      "2 129\n",
      "3 10\n"
     ]
    }
   ],
   "source": [
    "x = [ 8,181,129,10]\n",
    "for index, value in enumerate (x):\n",
    "    # index refers to the index on the list x \n",
    "    # value is the current value of x the loop is on \n",
    "    print(index, value)"
   ]
  },
  {
   "cell_type": "markdown",
   "metadata": {},
   "source": [
    "### For loop with `zip()`\n",
    "\n",
    "`zip()` simultaneously iterates over both lists "
   ]
  },
  {
   "cell_type": "code",
   "execution_count": null,
   "metadata": {},
   "outputs": [],
   "source": [
    "x = [0,1,2,3,4,5,6]\n",
    "y = [7,8,9,10,11,12,13]\n",
    "for i,j in zip(x,y):\n",
    "    print(i,j)"
   ]
  },
  {
   "cell_type": "markdown",
   "metadata": {},
   "source": [
    "## lambda \n",
    "\n",
    "```python\n",
    "lambda [params]: [ret]\n",
    "lambda [params]: [ret1] if [condition] else [ret2]\n",
    "```\n"
   ]
  },
  {
   "cell_type": "code",
   "execution_count": 16,
   "metadata": {
    "ExecuteTime": {
     "end_time": "2020-07-26T16:43:37.916277Z",
     "start_time": "2020-07-26T16:43:37.912513Z"
    }
   },
   "outputs": [
    {
     "data": {
      "text/plain": [
       "5"
      ]
     },
     "execution_count": 16,
     "metadata": {},
     "output_type": "execute_result"
    }
   ],
   "source": [
    "f = lambda x,y : x+y\n",
    "f(1,4)"
   ]
  },
  {
   "cell_type": "code",
   "execution_count": 17,
   "metadata": {
    "ExecuteTime": {
     "end_time": "2020-07-26T16:43:38.106473Z",
     "start_time": "2020-07-26T16:43:38.101396Z"
    }
   },
   "outputs": [
    {
     "data": {
      "text/plain": [
       "4"
      ]
     },
     "execution_count": 17,
     "metadata": {},
     "output_type": "execute_result"
    }
   ],
   "source": [
    "g = lambda x : x if x%2 == 0 else x*2\n",
    "g(4)"
   ]
  },
  {
   "cell_type": "markdown",
   "metadata": {},
   "source": [
    "## Map \n",
    "\n",
    "``` python\n",
    "map(function, iterable, ...)\n",
    "```"
   ]
  },
  {
   "cell_type": "code",
   "execution_count": null,
   "metadata": {},
   "outputs": [],
   "source": [
    "list(map(lambda x: x * 2, [1, 2, 3])) "
   ]
  },
  {
   "cell_type": "code",
   "execution_count": null,
   "metadata": {},
   "outputs": [],
   "source": [
    "list(map(int, input().split( )))"
   ]
  },
  {
   "cell_type": "markdown",
   "metadata": {},
   "source": [
    "## reduce\n",
    "\n",
    "```python\n",
    "from functools import reduce\n",
    "functools.reduce(function, iterable[, initializer])\n",
    "```"
   ]
  },
  {
   "cell_type": "code",
   "execution_count": 20,
   "metadata": {
    "ExecuteTime": {
     "end_time": "2020-07-26T16:46:59.676071Z",
     "start_time": "2020-07-26T16:46:59.671764Z"
    }
   },
   "outputs": [
    {
     "data": {
      "text/plain": [
       "10"
      ]
     },
     "execution_count": 20,
     "metadata": {},
     "output_type": "execute_result"
    }
   ],
   "source": [
    "from functools import reduce\n",
    "reduce(lambda x, y: x + y , [1, 2, 3, 4])"
   ]
  },
  {
   "cell_type": "markdown",
   "metadata": {},
   "source": [
    "## Comprehension\n",
    "\n",
    "- List Comprehension\n",
    "```\n",
    "→ [ <expr> for <var> in <iterator> ]\n",
    "→ [ <expr> for <var> in <iterator> if <expr> ]\n",
    "```\n",
    "\n",
    "- Set comprehension\n",
    "```\n",
    "→ { <expr> for <var> in <iterator> }\n",
    "→ { <expr> for <var> in <iterator> if <expr> }\n",
    "```\n",
    "\n",
    "- Dict comprehension\n",
    "```\n",
    "→ { <expr>:<expr> for <var> in <iterator> }\n",
    "→ { <expr>:<expr> for <var> in <iterator> if <expr> }\n",
    "```\n",
    "\n",
    "- Gen comprehension\n",
    "```\n",
    "→ <iterator> = (for <var> in <collections>)\n",
    "→ <iterator> = (for <var> in <collection> if <expression>)\n",
    "```"
   ]
  },
  {
   "cell_type": "markdown",
   "metadata": {},
   "source": [
    "### List comprehension \n",
    "\n",
    "<img src=https://miro.medium.com/max/1022/1*RycJnooSC4_amWAXsvvKhw.png >\n",
    "<br>\n",
    "\n",
    "This is one really neat feature in Python where you can run `loops` and `if statements` while generating a list. \n",
    "\n",
    "List comprehension creates many Pythonic code on liners. \n",
    "\n",
    "To derive a new list from an existing list, doing iterative\n",
    "operations on the list.\n",
    "\n",
    "```python\n",
    "[expr for var in list filtering]\n",
    "```"
   ]
  },
  {
   "cell_type": "code",
   "execution_count": 4,
   "metadata": {
    "ExecuteTime": {
     "end_time": "2020-07-26T16:11:59.549987Z",
     "start_time": "2020-07-26T16:11:59.539771Z"
    }
   },
   "outputs": [
    {
     "data": {
      "text/plain": [
       "[0, 1, 4, 9, 16, 25]"
      ]
     },
     "execution_count": 4,
     "metadata": {},
     "output_type": "execute_result"
    }
   ],
   "source": [
    "x = [0,1,2,3,4,5]\n",
    "# each item in x is squared \n",
    "[i**2 for i in x ]"
   ]
  },
  {
   "cell_type": "code",
   "execution_count": 8,
   "metadata": {
    "ExecuteTime": {
     "end_time": "2020-07-26T16:13:46.901126Z",
     "start_time": "2020-07-26T16:13:46.896041Z"
    }
   },
   "outputs": [
    {
     "data": {
      "text/plain": [
       "[-2, -1, 0, 1, 2]"
      ]
     },
     "execution_count": 8,
     "metadata": {},
     "output_type": "execute_result"
    }
   ],
   "source": [
    "# filtering \n",
    "# the abolute value of each item in z  is less than 3 \n",
    "z = [-5,-4,-3,-2,-1,0,1,2,3,4,5]\n",
    "[i for i in z if abs(i) < 3 ] # "
   ]
  },
  {
   "cell_type": "markdown",
   "metadata": {
    "ExecuteTime": {
     "end_time": "2020-07-26T16:15:15.512276Z",
     "start_time": "2020-07-26T16:15:15.507291Z"
    }
   },
   "source": [
    "## Multiple list comprehension"
   ]
  },
  {
   "cell_type": "code",
   "execution_count": 13,
   "metadata": {
    "ExecuteTime": {
     "end_time": "2020-07-26T16:15:55.465644Z",
     "start_time": "2020-07-26T16:15:55.460862Z"
    }
   },
   "outputs": [
    {
     "data": {
      "text/plain": [
       "[[0, 0], [0, 1], [1, 0], [1, 1]]"
      ]
     },
     "execution_count": 13,
     "metadata": {},
     "output_type": "execute_result"
    }
   ],
   "source": [
    "# 2d list \n",
    "[[i,j] for i in range (2) for j in range(2)]"
   ]
  },
  {
   "cell_type": "code",
   "execution_count": 14,
   "metadata": {
    "ExecuteTime": {
     "end_time": "2020-07-26T16:16:30.768907Z",
     "start_time": "2020-07-26T16:16:30.763390Z"
    }
   },
   "outputs": [
    {
     "data": {
      "text/plain": [
       "[[0, 0, 0],\n",
       " [0, 0, 1],\n",
       " [0, 1, 0],\n",
       " [0, 1, 1],\n",
       " [1, 0, 0],\n",
       " [1, 0, 1],\n",
       " [1, 1, 0],\n",
       " [1, 1, 1]]"
      ]
     },
     "execution_count": 14,
     "metadata": {},
     "output_type": "execute_result"
    }
   ],
   "source": [
    "# 3d list \n",
    "[[i,j,k] for i in range(2)for j in range(2 )for k in range(2)]"
   ]
  },
  {
   "cell_type": "markdown",
   "metadata": {},
   "source": [
    "<div class=\"alert alert-success\" data-title=\"\">\n",
    "  <h1><i class=\"fa fa-tasks\" aria-hidden=\"true\"></i> Exercise :  5 problems \n",
    "  </h1>\n",
    "</div>\n",
    "\n",
    "\n",
    "Q1. Print the following Set with given list:\n",
    " - Given list:\n",
    "    - loc = ['Seoul', 'Busan', 'Incheon']\n",
    "    - est = ['5512', '113', '6112']\n",
    "\n",
    "\n",
    " - Output:\n",
    "```\n",
    "{'env1': ['Seoul', '5512'],\n",
    " 'env2': ['Busan', '113'],\n",
    " 'env3': ['Incheon', '6112']}\n",
    "```\n",
    "Q2. 구구단 1단 부터 9단까지 모든 결과의 \"집합\"을 구하시오.(set comprehension)\n",
    "\n",
    "\n",
    "Q3. Print the following pattern with list comprehension. \n",
    "```\n",
    "    ['2*2 = 4',\n",
    "     '2*4 = 8',\n",
    "     '2*6 = 12',\n",
    "     '2*8 = 16',\n",
    "     '4*2 = 8',\n",
    "     '4*4 = 16',\n",
    "     '4*6 = 24',\n",
    "     '4*8 = 32',\n",
    "     '6*2 = 12',\n",
    "     '6*4 = 24',\n",
    "     '6*6 = 36',\n",
    "     '6*8 = 48',\n",
    "     '8*2 = 16',\n",
    "     '8*4 = 32',\n",
    "     '8*6 = 48',\n",
    "     '8*8 = 64']\n",
    "```\n",
    "\n",
    "\n",
    "Q4. Given `txt = \"The quick brown fox jupsover the lazy dog\"`, print [[word, word length]]:\n",
    "\n",
    "```\n",
    "[['THE', 3],\n",
    " ['QUICK', 5],\n",
    " ['BROWN', 5],\n",
    " ['FOX', 3],\n",
    " ['JUPSOVER', 8],\n",
    " ['THE', 3],\n",
    " ['LAZY', 4],\n",
    " ['DOG', 3]]\n",
    "```\n",
    " \n",
    "Q5. Given `txt = \"The lack of visibility in the oil industry's long-term future remains a big risk for investors. Rapidly evolving technology and shifting political winds could hasten the arrival of peak oil well before Wall Street's estimates. That could cause serious financial pain.\"`, then  Print the following set: \n",
    "\n",
    "```\n",
    "{1: 'The',\n",
    " 2: 'lack',\n",
    " 3: 'of',\n",
    " 4: 'visibility',\n",
    " 5: 'in',\n",
    " 6: 'the',\n",
    " 7: 'oil',\n",
    " 8: \"industry's\",\n",
    " 9: 'long-term',\n",
    " 10: 'future',\n",
    " 11: 'remains',\n",
    " 12: 'a',\n",
    " 13: 'big',\n",
    " 14: 'risk',\n",
    " 15: 'for',\n",
    " 16: 'investors.',\n",
    " 17: 'Rapidly',\n",
    " 18: 'evolving',\n",
    " 19: 'technology',\n",
    " 20: 'and',\n",
    " 21: 'shifting',\n",
    " 22: 'political',\n",
    " 23: 'winds',\n",
    " 24: 'could',\n",
    " 25: 'hasten',\n",
    " 26: 'the',\n",
    " 27: 'arrival',\n",
    " 28: 'of',\n",
    " 29: 'peak',\n",
    " 30: 'oil',\n",
    " 31: 'well',\n",
    " 32: 'before',\n",
    " 33: 'Wall',\n",
    " 34: \"Street's\",\n",
    " 35: 'estimates.',\n",
    " 36: 'That',\n",
    " 37: 'could',\n",
    " 38: 'cause',\n",
    " 39: 'serious',\n",
    " 40: 'financial',\n",
    " 41: 'pain.'}\n",
    "```"
   ]
  }
 ],
 "metadata": {
  "hide_input": false,
  "kernelspec": {
   "display_name": "Python 3",
   "language": "python",
   "name": "python3"
  },
  "language_info": {
   "codemirror_mode": {
    "name": "ipython",
    "version": 3
   },
   "file_extension": ".py",
   "mimetype": "text/x-python",
   "name": "python",
   "nbconvert_exporter": "python",
   "pygments_lexer": "ipython3",
   "version": "3.7.6"
  },
  "toc": {
   "base_numbering": 1,
   "nav_menu": {},
   "number_sections": true,
   "sideBar": true,
   "skip_h1_title": true,
   "title_cell": "Table of Contents",
   "title_sidebar": "Contents",
   "toc_cell": true,
   "toc_position": {},
   "toc_section_display": true,
   "toc_window_display": true
  },
  "varInspector": {
   "cols": {
    "lenName": 16,
    "lenType": 16,
    "lenVar": 40
   },
   "kernels_config": {
    "python": {
     "delete_cmd_postfix": "",
     "delete_cmd_prefix": "del ",
     "library": "var_list.py",
     "varRefreshCmd": "print(var_dic_list())"
    },
    "r": {
     "delete_cmd_postfix": ") ",
     "delete_cmd_prefix": "rm(",
     "library": "var_list.r",
     "varRefreshCmd": "cat(var_dic_list()) "
    }
   },
   "types_to_exclude": [
    "module",
    "function",
    "builtin_function_or_method",
    "instance",
    "_Feature"
   ],
   "window_display": false
  }
 },
 "nbformat": 4,
 "nbformat_minor": 4
}
