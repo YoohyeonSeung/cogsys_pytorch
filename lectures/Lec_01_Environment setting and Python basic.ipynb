{
 "cells": [
  {
   "cell_type": "markdown",
   "metadata": {},
   "source": [
    "# Lecture_01 Environment setting and Python basic\n",
    "<font size=5><b>(Environment setting)<b></font>\n",
    "<div align='right'> Hoe Sung Ryu ( 류 회 성 ) </div>\n",
    "<div align='right'> Minsuk Sung ( 성 민 석) </div>\n",
    "    \n",
    "<img src=https://files.realpython.com/media/Setting-Up-an-Effective-Terminal-Environment-for-Python-Development_Watermarked.856435b7bcb0.jpg width=50%>\n",
    "     \n",
    "    \n",
    "    \n",
    "> Author: Hoe Sung Ryu, Minsuk Sung  <p>\n",
    "> Tel: 010-6636-7275 / skainf23@gamil.com // 010-5134-3621 / mssung94@gmail.com  <p>\n",
    "> 본 내용은 파이토치를 활용한 딥러닝 과외 자료입니다. 본 내용을 제작자의 동의없이 무단으로 복제하는 행위는 금합니다.\n",
    "    \n",
    "\n",
    "---\n",
    "\n",
    "Syllabus\n",
    "    \n",
    "|Event Type|Date|Topic|\n",
    "|--:|:---:|:---|\n",
    "|1 |July 27| Environment setting and Python basic|\n",
    "|2 |July 28| Pytorch basic and Custom Data load |\n",
    "|3 |July 29| Traditional Machine Learning(1) |\n",
    "|4 |July 30| Traditional Machine Learning(2) |\n",
    "|5 |July 31| CNN(Convolutional Neural Network)(1)  |\n",
    "|6 |Aug 03| CNN(Convolutional NeuralNetwork)(2) |\n",
    "|7 |Aug 04|  RNN(Recurrent Neural Networks)(1) |\n",
    "|8 |Aug 05|  RNN(Recurrent Neural Networks)(2) |\n",
    "|9 |Aug 06|  Transfer learning(VGG pertained on ImageNEt for CIfar-10)| \n",
    "|10|Aug 07|**Mini_Kaggle**: Facial Expression Recognition on `AffectNet` | \n",
    "|11|Aug 08|`Awards` and `Closing`| \n"
   ]
  },
  {
   "cell_type": "markdown",
   "metadata": {},
   "source": [
    "## Conda Install \n",
    "You can install Anaconda using the graphical installer.  \n",
    "\n",
    "1. Go to site: https://www.anaconda.com/products/individual#\n",
    "<img src='../img/anaconda_install_1.png' width=70%>\n",
    "2. Scroll Down & Download installer for your version of OS. \n",
    "<img src='../img/anaconda_install_2.png' width=70%>"
   ]
  },
  {
   "cell_type": "markdown",
   "metadata": {},
   "source": [
    "## Error\n",
    "\n",
    "When you encounter error while programming, visit stackoverflow\n",
    "then someone kindly answer your questions. \n",
    "\n",
    "<img src='../img/stackoverflow_quora.png' width=70%>"
   ]
  },
  {
   "cell_type": "markdown",
   "metadata": {},
   "source": [
    "## Virtual Environment\n",
    "\n",
    "I strongly recommend you to make virtual environment.\n",
    "Often, you’ll be working on multiple projects and each project has its own set of dependencies. \n",
    "If all the dependencies are installed together in a single Python environment, then it will be difficult to discern where each one came from.\n",
    "\n",
    "### Make virtual environment \n",
    "\n",
    "```shell \n",
    ">conda create -n <name> python=3.7 \n",
    "ex) >conda create tensorflow2 python=3.7\n",
    "```\n",
    "\n",
    "### Activate virtual environment \n",
    "```shell \n",
    "> conda activate <name> \n",
    "ex) >conda activate tensorflow2 \n",
    "```  \n",
    "\n",
    "### Deactivate\n",
    "```shell \n",
    "> conda deactivate\n",
    "```  \n",
    "\n",
    "### Check virtual environment\n",
    "```shell \n",
    "> conda info --envs\n",
    "``` \n",
    "\n",
    "---\n"
   ]
  },
  {
   "cell_type": "markdown",
   "metadata": {},
   "source": [
    "## Install package \n",
    "\n",
    "\n",
    "### Module import problem\n",
    "When you see the error message that module cannot be found as below:\n",
    "\n",
    "<img src='../img/no_module.png' width=70%>\n",
    "<!-- <center> The error message </center> -->\n",
    "<br>\n",
    "\n",
    "You can install the package via `pip install` or `conda install` with rebooting the Jupyter notebook several times.\n",
    "\n",
    "### Step of  install\n",
    "1. When you want to install package just google it as : conda install `<packagename>`\n",
    "\n",
    "<img src='../img/install_package_1.png' width=70%>\n",
    "\n",
    "2. Visit Anaconda Cloud and copy first line \n",
    "<img src='../img/install_package_2.png' width=70%>\n",
    "\n",
    "3. past to `command line`\n",
    "<img src='../img/install_package_3.png' width=70%>"
   ]
  },
  {
   "cell_type": "markdown",
   "metadata": {},
   "source": [
    "## Git clone\n",
    "\n",
    "Please, write down code in your command shell \n",
    "\n",
    "```shell\n",
    "> cd .. \n",
    "> mkdir GitHub && cd GitHub \n",
    "> git clone https://github.com/hoesung/hands-on-pytroch.git\n",
    "```\n",
    "\n",
    "\n",
    "### Precise step of git clone\n",
    "<img src='../img/git_clone.png' width=70%>\n",
    "\n",
    "1. Visit the git repository that you want to download.\n",
    "2. Click code button\n",
    "3. Press copy button \n",
    "\n",
    "<img src='../img/git_clone2.png' width=70%>\n",
    "<br>\n",
    "\n",
    "4. Write down: git clone `< address >`\n",
    "\n",
    "\n",
    "\n",
    "\n",
    "\n",
    "\n"
   ]
  },
  {
   "cell_type": "markdown",
   "metadata": {},
   "source": [
    "## Jupyter notebook \n",
    "\n",
    "### Hotkey \n",
    "1. Cell click and then press `a` = insert cell upward \n",
    "2. Cell click and then press `b`= insert cell below \n",
    "3. Cell click and then press `m`= convert to markdown \n",
    "4. Cell click and then press `d`= delete cell\n",
    "5. Cell click and then press `z`= restore\n",
    "6. Cell click and then press `00` = reset\n",
    "7. `command` + `/` = comment out \n",
    "8. `shif`+`enter`  = code execution\n",
    "\n",
    "### Indentation\n",
    "<img src=https://www.hanselman.com/blog/content/binary/tabsvsspaces.gif>\n",
    "<br>\n",
    "Most of the programming languages like C, C++, and Java use braces { } to define a block of code. Python, however, uses indentation.\n",
    "\n",
    "A code block (body of a function, loop, etc.) starts with indentation and ends with the first unindented line. The amount of indentation is up to you, but it must be consistent throughout that block.\n",
    "\n",
    "Generally, four whitespaces are used for indentation and are preferred over tabs.\n",
    "(  `spacebar *4` or `Tab-key` ) \n",
    "\n"
   ]
  }
 ],
 "metadata": {
  "hide_input": false,
  "kernelspec": {
   "display_name": "Python 3",
   "language": "python",
   "name": "python3"
  },
  "language_info": {
   "codemirror_mode": {
    "name": "ipython",
    "version": 3
   },
   "file_extension": ".py",
   "mimetype": "text/x-python",
   "name": "python",
   "nbconvert_exporter": "python",
   "pygments_lexer": "ipython3",
   "version": "3.7.6"
  },
  "toc": {
   "base_numbering": 1,
   "nav_menu": {},
   "number_sections": true,
   "sideBar": true,
   "skip_h1_title": true,
   "title_cell": "Table of Contents",
   "title_sidebar": "Contents",
   "toc_cell": false,
   "toc_position": {},
   "toc_section_display": true,
   "toc_window_display": false
  },
  "varInspector": {
   "cols": {
    "lenName": 16,
    "lenType": 16,
    "lenVar": 40
   },
   "kernels_config": {
    "python": {
     "delete_cmd_postfix": "",
     "delete_cmd_prefix": "del ",
     "library": "var_list.py",
     "varRefreshCmd": "print(var_dic_list())"
    },
    "r": {
     "delete_cmd_postfix": ") ",
     "delete_cmd_prefix": "rm(",
     "library": "var_list.r",
     "varRefreshCmd": "cat(var_dic_list()) "
    }
   },
   "types_to_exclude": [
    "module",
    "function",
    "builtin_function_or_method",
    "instance",
    "_Feature"
   ],
   "window_display": false
  }
 },
 "nbformat": 4,
 "nbformat_minor": 4
}
