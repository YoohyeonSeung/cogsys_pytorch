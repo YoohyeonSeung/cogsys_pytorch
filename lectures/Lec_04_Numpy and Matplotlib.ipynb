{
 "cells": [
  {
   "cell_type": "markdown",
   "metadata": {},
   "source": [
    "# Lec_04_Numpy and Matplotlib\n",
    "\n",
    "<div align='right'> Hoe Sung Ryu ( 류 회 성 ) </div>\n",
    "<div align='right'> Minsuk Sung ( 성 민 석) </div>\n",
    "\n",
    "\n",
    "\n",
    "--- \n",
    "\n",
    "Syllabus\n",
    "    \n",
    "|Event Type|Date|Topic|\n",
    "|--:|:---:|:---|\n",
    "|1 |July 27| Environment setting and Python basic|\n",
    "|2 |July 28| Pytorch basic and Custom Data load |\n",
    "|3 |July 29| Traditional Machine Learning(1) |\n",
    "|4 |July 30| Traditional Machine Learning(2) |\n",
    "|5 |July 31| CNN(Convolutional Neural Network)(1)  |\n",
    "|6 |Aug 03| CNN(Convolutional NeuralNetwork)(2) |\n",
    "|7 |Aug 04|  RNN(Recurrent Neural Networks)(1) |\n",
    "|8 |Aug 05|  RNN(Recurrent Neural Networks)(2) |\n",
    "|9 |Aug 06|  Transfer learning(VGG pertained on ImageNEt for CIfar-10)| \n",
    "|10|Aug 07|**Mini_Kaggle**: Facial Expression Recognition on `AffectNet` | \n",
    "|11|Aug 08|`Awards` and `Closing`| \n",
    "    "
   ]
  },
  {
   "cell_type": "markdown",
   "metadata": {
    "toc": true
   },
   "source": [
    "<h1>Table of Contents<span class=\"tocSkip\"></span></h1>\n",
    "<div class=\"toc\"><ul class=\"toc-item\"><li><span><a href=\"#Numpy\" data-toc-modified-id=\"Numpy-1\"><span class=\"toc-item-num\">1&nbsp;&nbsp;</span>Numpy</a></span><ul class=\"toc-item\"><li><span><a href=\"#array-creation_-form-list\" data-toc-modified-id=\"array-creation_-form-list-1.1\"><span class=\"toc-item-num\">1.1&nbsp;&nbsp;</span>array creation_ form list</a></span></li><li><span><a href=\"#useful-attributes\" data-toc-modified-id=\"useful-attributes-1.2\"><span class=\"toc-item-num\">1.2&nbsp;&nbsp;</span>useful attributes</a></span></li><li><span><a href=\"#Numpy-array-indexing\" data-toc-modified-id=\"Numpy-array-indexing-1.3\"><span class=\"toc-item-num\">1.3&nbsp;&nbsp;</span>Numpy array indexing</a></span></li><li><span><a href=\"#numpy-basic-operation\" data-toc-modified-id=\"numpy-basic-operation-1.4\"><span class=\"toc-item-num\">1.4&nbsp;&nbsp;</span>numpy basic operation</a></span></li><li><span><a href=\"#dot-product-(=-matrix-multiplication)\" data-toc-modified-id=\"dot-product-(=-matrix-multiplication)-1.5\"><span class=\"toc-item-num\">1.5&nbsp;&nbsp;</span>dot product (= matrix multiplication)</a></span></li><li><span><a href=\"#numpy-linear-algebra\" data-toc-modified-id=\"numpy-linear-algebra-1.6\"><span class=\"toc-item-num\">1.6&nbsp;&nbsp;</span>numpy linear algebra</a></span></li></ul></li><li><span><a href=\"#Matplotlib\" data-toc-modified-id=\"Matplotlib-2\"><span class=\"toc-item-num\">2&nbsp;&nbsp;</span>Matplotlib</a></span></li></ul></div>"
   ]
  },
  {
   "cell_type": "markdown",
   "metadata": {},
   "source": [
    "---\n",
    "\n",
    "## Numpy \n",
    "<img src = https://i.morioh.com/b53d97587a.png width = 50%>\n",
    "\n",
    "Numpy is the fundamental package for scientific cimputing with Python. \n",
    "It contains among other things \n",
    "- a powerful N-dimensional array object \n",
    "- broadcasting functions\n",
    "- tools for integrating C/C++\n",
    "- useful linear algebra, Fourier transform so on... \n",
    "---\n",
    "    \n",
    "```python \n",
    "import numpy as np \n",
    "```\n",
    "    \n",
    "This is the modst standar form of how to import the numpy library \n",
    "\n"
   ]
  },
  {
   "cell_type": "markdown",
   "metadata": {},
   "source": [
    "### array creation_ form list "
   ]
  },
  {
   "cell_type": "code",
   "execution_count": 17,
   "metadata": {
    "ExecuteTime": {
     "end_time": "2020-07-26T18:26:35.081211Z",
     "start_time": "2020-07-26T18:26:35.078526Z"
    }
   },
   "outputs": [],
   "source": [
    "# one-dimensional array shape (4,)\n",
    "x = np.array([1,2,3,4])"
   ]
  },
  {
   "cell_type": "code",
   "execution_count": 18,
   "metadata": {
    "ExecuteTime": {
     "end_time": "2020-07-26T18:26:35.279330Z",
     "start_time": "2020-07-26T18:26:35.276470Z"
    }
   },
   "outputs": [],
   "source": [
    "# two dimensional array shape (2,2)\n",
    "y = np.array([[1,2],[2,3]])"
   ]
  },
  {
   "cell_type": "code",
   "execution_count": 19,
   "metadata": {
    "ExecuteTime": {
     "end_time": "2020-07-26T18:26:35.416544Z",
     "start_time": "2020-07-26T18:26:35.413472Z"
    }
   },
   "outputs": [],
   "source": [
    "# three dimensional array shape (2,2,2)\n",
    "z = np.array([[[1,2],[2,3]],[[1,2],[2,3]]])"
   ]
  },
  {
   "cell_type": "markdown",
   "metadata": {},
   "source": [
    "### useful attributes \n",
    "\n",
    "- `.shape`: the size of each diemnsion of the array \n",
    "- `.size`: to total size of the array\n",
    "- `ndarray.reshape(shape[, order])` :Returns an array containing the same data with a new shape.\n",
    "- `ndarray.resize(new\\_shape[, refcheck])` :Change shape and size of array in-place.\n",
    "- `ndarray.transpose(*axes)`: Returns a view of the array with axes transposed.\n",
    "- `ndarray.swapaxes(axis1, axis2)` :Return a view of the array with axis1 and axis2 interchanged.\n",
    "- `ndarray.flatten([order])`: Return a copy of the array collapsed into one dimension.\n",
    "- `ndarray.ravel([order])`: Return a flattened array.\n",
    "- `ndarray.squeeze([axis])` :Remove single-dimensional entries from the shape of a.\n"
   ]
  },
  {
   "cell_type": "code",
   "execution_count": null,
   "metadata": {},
   "outputs": [],
   "source": [
    "z.shape\n",
    "z.size"
   ]
  },
  {
   "cell_type": "markdown",
   "metadata": {},
   "source": [
    "### Numpy array indexing \n",
    "\n",
    "just like lists... \n",
    "\n"
   ]
  },
  {
   "cell_type": "code",
   "execution_count": null,
   "metadata": {},
   "outputs": [],
   "source": [
    "# define \n",
    "x = np.array([1,2,3,4])\n",
    "x[0]"
   ]
  },
  {
   "cell_type": "code",
   "execution_count": 23,
   "metadata": {
    "ExecuteTime": {
     "end_time": "2020-07-26T18:32:48.130603Z",
     "start_time": "2020-07-26T18:32:48.125972Z"
    }
   },
   "outputs": [
    {
     "name": "stdout",
     "output_type": "stream",
     "text": [
      "[[1 2]\n",
      " [2 3]]\n"
     ]
    },
    {
     "data": {
      "text/plain": [
       "array([1, 2])"
      ]
     },
     "execution_count": 23,
     "metadata": {},
     "output_type": "execute_result"
    }
   ],
   "source": [
    "# define\n",
    "y = np.array([[1,2],[2,3]])\n",
    "print(y)\n",
    "y[:,0]"
   ]
  },
  {
   "cell_type": "code",
   "execution_count": null,
   "metadata": {},
   "outputs": [],
   "source": [
    "### Numpy functions \n",
    "\n"
   ]
  },
  {
   "cell_type": "markdown",
   "metadata": {},
   "source": [
    "### numpy basic operation \n",
    "\n",
    "element_wise(= pointwise)"
   ]
  },
  {
   "cell_type": "code",
   "execution_count": 25,
   "metadata": {
    "ExecuteTime": {
     "end_time": "2020-07-26T18:33:35.677230Z",
     "start_time": "2020-07-26T18:33:35.673944Z"
    }
   },
   "outputs": [],
   "source": [
    "t1 = np.array([[1,2],[2,3]])\n",
    "t2 = np.array([[3,5],[4,6]])"
   ]
  },
  {
   "cell_type": "code",
   "execution_count": 26,
   "metadata": {
    "ExecuteTime": {
     "end_time": "2020-07-26T18:33:40.232852Z",
     "start_time": "2020-07-26T18:33:40.228745Z"
    }
   },
   "outputs": [
    {
     "data": {
      "text/plain": [
       "array([[4, 7],\n",
       "       [6, 9]])"
      ]
     },
     "execution_count": 26,
     "metadata": {},
     "output_type": "execute_result"
    }
   ],
   "source": [
    "t1+t2"
   ]
  },
  {
   "cell_type": "code",
   "execution_count": 27,
   "metadata": {
    "ExecuteTime": {
     "end_time": "2020-07-26T18:33:44.209868Z",
     "start_time": "2020-07-26T18:33:44.205746Z"
    }
   },
   "outputs": [
    {
     "data": {
      "text/plain": [
       "array([[-2, -3],\n",
       "       [-2, -3]])"
      ]
     },
     "execution_count": 27,
     "metadata": {},
     "output_type": "execute_result"
    }
   ],
   "source": [
    "t1 - t2"
   ]
  },
  {
   "cell_type": "code",
   "execution_count": 29,
   "metadata": {
    "ExecuteTime": {
     "end_time": "2020-07-26T18:34:02.298209Z",
     "start_time": "2020-07-26T18:34:02.293412Z"
    }
   },
   "outputs": [
    {
     "name": "stdout",
     "output_type": "stream",
     "text": [
      "[[1 2]\n",
      " [2 3]]\n",
      "[[3 5]\n",
      " [4 6]]\n"
     ]
    },
    {
     "data": {
      "text/plain": [
       "array([[ 3, 10],\n",
       "       [ 8, 18]])"
      ]
     },
     "execution_count": 29,
     "metadata": {},
     "output_type": "execute_result"
    }
   ],
   "source": [
    "print(t1)\n",
    "print(t2)\n",
    "t1 *t2"
   ]
  },
  {
   "cell_type": "markdown",
   "metadata": {
    "ExecuteTime": {
     "end_time": "2020-07-26T18:34:40.322046Z",
     "start_time": "2020-07-26T18:34:40.317983Z"
    }
   },
   "source": [
    "### dot product (= matrix multiplication) \n",
    "\n",
    "t1.dot(t2)"
   ]
  },
  {
   "cell_type": "code",
   "execution_count": 33,
   "metadata": {
    "ExecuteTime": {
     "end_time": "2020-07-26T18:34:44.415260Z",
     "start_time": "2020-07-26T18:34:44.411189Z"
    }
   },
   "outputs": [
    {
     "data": {
      "text/plain": [
       "array([[11, 17],\n",
       "       [18, 28]])"
      ]
     },
     "execution_count": 33,
     "metadata": {},
     "output_type": "execute_result"
    }
   ],
   "source": [
    "t1 @ t2"
   ]
  },
  {
   "cell_type": "markdown",
   "metadata": {},
   "source": [
    "### numpy linear algebra \n",
    "\n",
    "\n",
    "- `np.linalg.cholesky(a)` : Cholesky decomposition \\\\\n",
    "- `np.linalg.qr(a[,mode])` : qr factorization \\\\\n",
    "- `np.linalg.svd(a[, full\\_matrices, compute\\_uv]) `: Singular value decomposition \\\\\n",
    "- `np.linalg.norm(x) `\t    : Matrix or vector norm.\\\\\n",
    "- `np.linalg.cond(x)` \t     : Compute the condition number of a matrix.\\\\\n",
    "- `np.linalg.det(a) \t`       : Compute the determinant of an array.\\\\\n",
    "- `np.linalg.matrix\\_rank(M)` : Return matrix rank of array using SVD method.\\\\\n",
    "- `np.linalg.slogdet(a)` \t   : Sign and $\\ln$ of the determinant of an array.\\\\\n",
    "- `np.trace(a)` \t          : Return the sum along diagonals of the array.\\\\\n",
    "- `np.linalg.solve(a, b) `\t            : Solve a linear matrix equation\\\\\n",
    "- `np.linalg.tensorsolve(a, b[, axes]) `:\tSolve the tensor equation a x = b for x\\\\\n",
    "- `np.linalg.lstsq(a, b[, rcond])` \t    :  least-squares solution to a linear equation\\\\\n",
    "- `np.linalg.inv(a) `\t                : multiplicative) inverse of a matrix\\\\\n",
    "- `np.linalg.pinv(a[, rcond])`    \t    : (Moore-Penrose) pseudo-inverse of a matrix\\\\\n",
    "- `np.linalg.tensorinv(a[, ind])` \t    : ‘inverse’ of an N-dimensional array\\\\"
   ]
  },
  {
   "cell_type": "code",
   "execution_count": 35,
   "metadata": {
    "ExecuteTime": {
     "end_time": "2020-07-26T18:40:25.904424Z",
     "start_time": "2020-07-26T18:40:25.882225Z"
    }
   },
   "outputs": [
    {
     "name": "stdout",
     "output_type": "stream",
     "text": [
      "[3.3 2.1]\n"
     ]
    }
   ],
   "source": [
    "M = np.array([[2,3],[-2,9]])\n",
    "F = np.array([12.9,12.3])\n",
    "\n",
    "# solve the equation Ma = F for a \n",
    "a = np.linalg.solve(M,F)\n",
    "print(a)"
   ]
  },
  {
   "cell_type": "code",
   "execution_count": 36,
   "metadata": {
    "ExecuteTime": {
     "end_time": "2020-07-26T18:40:43.036094Z",
     "start_time": "2020-07-26T18:40:43.018586Z"
    }
   },
   "outputs": [
    {
     "data": {
      "text/plain": [
       "array([12.9, 12.3])"
      ]
     },
     "execution_count": 36,
     "metadata": {},
     "output_type": "execute_result"
    }
   ],
   "source": [
    "# check \n",
    "np.dot(M,a)"
   ]
  },
  {
   "cell_type": "markdown",
   "metadata": {},
   "source": [
    "<div class=\"alert alert-success\" data-title=\"\">\n",
    "  <h1><i class=\"fa fa-tasks\" aria-hidden=\"true\"></i> Exercise\n",
    "  </h1>\n",
    "</div>\n",
    "Q1. \n",
    "    \n",
    "Compute, \n",
    "$\n",
    "\\begin{bmatrix}\n",
    "9 & 5 & 0 \\\\\n",
    "9 & 5 & 0 \\\\\n",
    "5 & 4 & 9\n",
    "\\end{bmatrix} \\begin{bmatrix}\n",
    "5 & 10 & 5 \\\\\n",
    "4 & 4 & 3 \\\\\n",
    "6 & 10 & 4\n",
    "\\end{bmatrix}\n",
    "\\begin{bmatrix}\n",
    "10 \\\\\n",
    "6 \\\\\n",
    "9\n",
    "\\end{bmatrix} = v\n",
    "$\n",
    "\n",
    "---"
   ]
  },
  {
   "cell_type": "markdown",
   "metadata": {},
   "source": [
    "Q2. \n",
    "Given\n",
    "\n",
    "$\\frac{E}{L} * \n",
    "\\begin{bmatrix}\n",
    " 0.00576 &-0.00576 &0 &0 \\\\\n",
    "-0.00576 &0.0095 &-0.002687 &0 \\\\\n",
    " 0&-0.002687 & 0.0075&-0.000733 \\\\\n",
    " 0& 0&-0.000733& 0.000733\n",
    "\\end{bmatrix}\n",
    "\\begin{bmatrix}\n",
    "u_1\\\\\n",
    "u_2\\\\\n",
    "u_3\\\\\n",
    "u_4\n",
    "\\end{bmatrix} = \\begin{bmatrix}\n",
    "\\frac{10000}{6}\\\\\n",
    "\\frac{10000}{3}\\\\\n",
    "\\frac{10000}{3}\\\\\n",
    "\\frac{10000}{6}\n",
    "\\end{bmatrix} \n",
    "$\n",
    "\n",
    "where $E = 80\\times 10^{10}$ and $L= 0.25$. Determine ${u}$. i.e. Print $u$\n",
    "\n",
    "---"
   ]
  },
  {
   "cell_type": "markdown",
   "metadata": {},
   "source": [
    "Q3. Consider the following four $x,y$ data points.\n",
    "\n",
    "|$x$ |$y$| \n",
    "|--|--|\n",
    "|0.0 | 1.1 |\n",
    "|0.7 | 2.99| \n",
    "|1.7 | 5.69| \n",
    "|2.1 |6.77 |\n",
    "\n",
    "where an equation of a line is defined as\n",
    "\n",
    "\n",
    "$$y = mx + b$$\n",
    "\n",
    "The matrix equation for fitting a line is defined as\n",
    "\\begin{equation}\n",
    "\\begin{bmatrix}\n",
    "x_1 & 1.0 \\\\\n",
    "x_2 & 1.0 \\\\\n",
    "\\vdots & \\vdots \\\\\n",
    "x_n & 1.0 \\\\\n",
    "\\end{bmatrix}\\begin{bmatrix}\n",
    "m  \\\\\n",
    "b\n",
    "\\end{bmatrix}\n",
    "= \\begin{bmatrix}\n",
    "y_1 \\\\\n",
    "y_2 \\\\\n",
    "\\vdots \\\\\n",
    "y_n \\\\\n",
    "\\end{bmatrix}\n",
    "\\end{equation} \n",
    "\n",
    "where the first data points are $x_1$ and $y_1$. The second data points are $x_2$ and $y_2$, and so forth. \n"
   ]
  },
  {
   "cell_type": "code",
   "execution_count": 42,
   "metadata": {
    "ExecuteTime": {
     "end_time": "2020-07-26T19:12:26.290654Z",
     "start_time": "2020-07-26T19:12:26.267287Z"
    }
   },
   "outputs": [
    {
     "name": "stdout",
     "output_type": "stream",
     "text": [
      "[[9.07061996e-07]\n",
      " [8.16639542e-07]\n",
      " [5.55166314e-07]\n",
      " [1.26571656e-06]]\n",
      "[2.7 1.1]\n",
      "[4.12658864e-31]\n",
      "2\n"
     ]
    },
    {
     "name": "stderr",
     "output_type": "stream",
     "text": [
      "/Users/hoesungryu/opt/anaconda3/envs/pytorch/lib/python3.7/site-packages/ipykernel_launcher.py:44: FutureWarning: `rcond` parameter will change to the default of machine precision times ``max(M, N)`` where M and N are the input matrix dimensions.\n",
      "To use the future default and silence this warning we advise to pass `rcond=None`, to keep using the old, explicitly pass `rcond=-1`.\n"
     ]
    }
   ],
   "source": [
    "# To_do\n"
   ]
  },
  {
   "cell_type": "markdown",
   "metadata": {},
   "source": [
    "---\n",
    "\n",
    "![](data:image/jpeg;base64,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)\n",
    "\n",
    "<p>\n",
    "\n",
    "---"
   ]
  },
  {
   "cell_type": "markdown",
   "metadata": {},
   "source": [
    "## Matplotlib\n",
    "\n",
    "<img src=https://slideplayer.com/slide/13854907/85/images/33/Matplotlib+Library+Matplotlib+provides+a+rich+set+of+data+visualization+tools.+Like+NumPy%2C+Matplotlib+is+not+part+of+standard+Python..jpg width=50%>"
   ]
  },
  {
   "cell_type": "code",
   "execution_count": null,
   "metadata": {},
   "outputs": [],
   "source": [
    "# you can only use in jupyter cell\n",
    "%matplotlib inline \n",
    "import matplotlib.pyplot as plt \n"
   ]
  },
  {
   "cell_type": "code",
   "execution_count": 37,
   "metadata": {
    "ExecuteTime": {
     "end_time": "2020-07-26T18:54:44.756570Z",
     "start_time": "2020-07-26T18:54:44.184062Z"
    }
   },
   "outputs": [
    {
     "data": {
      "image/png": "[encoded data removed]",
      "text/plain": [
       "<Figure size 432x288 with 1 Axes>"
      ]
     },
     "metadata": {
      "needs_background": "light"
     },
     "output_type": "display_data"
    }
   ],
   "source": [
    "x = np.linspace(0, 2*np.pi, 25)\n",
    "y = np.cos(x)\n",
    "plt.figure()\n",
    "plt.plot(x, y)\n",
    "plt.show()"
   ]
  },
  {
   "cell_type": "code",
   "execution_count": 38,
   "metadata": {
    "ExecuteTime": {
     "end_time": "2020-07-26T18:54:44.911804Z",
     "start_time": "2020-07-26T18:54:44.775907Z"
    }
   },
   "outputs": [
    {
     "data": {
      "image/png": "[encoded data removed]",
      "text/plain": [
       "<Figure size 432x288 with 1 Axes>"
      ]
     },
     "metadata": {
      "needs_background": "light"
     },
     "output_type": "display_data"
    }
   ],
   "source": [
    "plt.figure()\n",
    "plt.plot(x,y,':')\n",
    "plt.show()"
   ]
  },
  {
   "cell_type": "code",
   "execution_count": 39,
   "metadata": {
    "ExecuteTime": {
     "end_time": "2020-07-26T18:54:45.081028Z",
     "start_time": "2020-07-26T18:54:44.934611Z"
    }
   },
   "outputs": [
    {
     "data": {
      "image/png": "[encoded data removed]",
      "text/plain": [
       "<Figure size 432x288 with 1 Axes>"
      ]
     },
     "metadata": {
      "needs_background": "light"
     },
     "output_type": "display_data"
    }
   ],
   "source": [
    "plt.figure()\n",
    "plt.plot(x,y,'g-o')\n",
    "plt.show()\n"
   ]
  },
  {
   "cell_type": "code",
   "execution_count": 40,
   "metadata": {
    "ExecuteTime": {
     "end_time": "2020-07-26T18:54:45.471953Z",
     "start_time": "2020-07-26T18:54:45.315761Z"
    }
   },
   "outputs": [
    {
     "data": {
      "image/png": "[encoded data removed]",
      "text/plain": [
       "<Figure size 432x288 with 1 Axes>"
      ]
     },
     "metadata": {
      "needs_background": "light"
     },
     "output_type": "display_data"
    }
   ],
   "source": [
    "z = np.sin(x)\n",
    "\n",
    "plt.figure()\n",
    "plt.plot(x,y, label='cos')\n",
    "plt.plot(x,z, label='sin')\n",
    "plt.grid(True)\n",
    "plt.legend(loc=1)\n",
    "plt.show()"
   ]
  },
  {
   "cell_type": "code",
   "execution_count": 41,
   "metadata": {
    "ExecuteTime": {
     "end_time": "2020-07-26T18:54:46.130004Z",
     "start_time": "2020-07-26T18:54:45.978904Z"
    }
   },
   "outputs": [
    {
     "data": {
      "image/png": "[encoded data removed]",
      "text/plain": [
       "<Figure size 432x288 with 1 Axes>"
      ]
     },
     "metadata": {
      "needs_background": "light"
     },
     "output_type": "display_data"
    }
   ],
   "source": [
    "plt.figure()\n",
    "plt.plot(x,y, label='cos')\n",
    "plt.plot(x,z, label='sin')\n",
    "plt.grid(True)\n",
    "plt.legend(loc=1)\n",
    "plt.title('Trig is hard', fontsize=16)\n",
    "plt.xlabel('x')\n",
    "plt.ylabel('y')\n",
    "plt.show()"
   ]
  },
  {
   "cell_type": "code",
   "execution_count": 43,
   "metadata": {
    "ExecuteTime": {
     "end_time": "2020-07-26T19:14:33.334815Z",
     "start_time": "2020-07-26T19:14:33.332381Z"
    }
   },
   "outputs": [],
   "source": [
    "# drawing sigmoid"
   ]
  }
 ],
 "metadata": {
  "hide_input": false,
  "kernelspec": {
   "display_name": "Python 3",
   "language": "python",
   "name": "python3"
  },
  "language_info": {
   "codemirror_mode": {
    "name": "ipython",
    "version": 3
   },
   "file_extension": ".py",
   "mimetype": "text/x-python",
   "name": "python",
   "nbconvert_exporter": "python",
   "pygments_lexer": "ipython3",
   "version": "3.7.6"
  },
  "toc": {
   "base_numbering": 1,
   "nav_menu": {},
   "number_sections": true,
   "sideBar": true,
   "skip_h1_title": true,
   "title_cell": "Table of Contents",
   "title_sidebar": "Contents",
   "toc_cell": true,
   "toc_position": {},
   "toc_section_display": true,
   "toc_window_display": true
  },
  "varInspector": {
   "cols": {
    "lenName": 16,
    "lenType": 16,
    "lenVar": 40
   },
   "kernels_config": {
    "python": {
     "delete_cmd_postfix": "",
     "delete_cmd_prefix": "del ",
     "library": "var_list.py",
     "varRefreshCmd": "print(var_dic_list())"
    },
    "r": {
     "delete_cmd_postfix": ") ",
     "delete_cmd_prefix": "rm(",
     "library": "var_list.r",
     "varRefreshCmd": "cat(var_dic_list()) "
    }
   },
   "types_to_exclude": [
    "module",
    "function",
    "builtin_function_or_method",
    "instance",
    "_Feature"
   ],
   "window_display": false
  }
 },
 "nbformat": 4,
 "nbformat_minor": 4
}
