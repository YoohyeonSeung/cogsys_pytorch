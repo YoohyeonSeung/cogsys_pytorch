{
 "cells": [
  {
   "cell_type": "markdown",
   "metadata": {},
   "source": [
    "# Lec_03_Python_function and class\n",
    "<font size=5><b><b></font>\n",
    "<div align='right'> Hoe Sung Ryu ( 류 회 성 ) </div>\n",
    "<div align='right'> Minsuk Sung ( 성 민 석) </div>\n",
    "    \n",
    "![](https://wikidocs.net/images/page/14598/2-1.png)\n",
    "\n",
    "---\n",
    "\n",
    "\n",
    "Syllabus\n",
    "    \n",
    "|Event Type|Date|Topic|\n",
    "|--:|:---:|:---|\n",
    "|1 |July 27| Environment setting and Python basic|\n",
    "|2 |July 28| Pytorch basic and Custom Data load |\n",
    "|3 |July 29| Traditional Machine Learning(1) |\n",
    "|4 |July 30| Traditional Machine Learning(2) |\n",
    "|5 |July 31| CNN(Convolutional Neural Network)(1)  |\n",
    "|6 |Aug 03| CNN(Convolutional NeuralNetwork)(2) |\n",
    "|7 |Aug 04|  RNN(Recurrent Neural Networks)(1) |\n",
    "|8 |Aug 05|  RNN(Recurrent Neural Networks)(2) |\n",
    "|9 |Aug 06|  Transfer learning(VGG pertained on ImageNEt for CIfar-10)| \n",
    "|10|Aug 07|**Mini_Kaggle**: Facial Expression Recognition on `AffectNet` | \n",
    "|11|Aug 08|`Awards` and `Closing`| \n",
    "    \n"
   ]
  },
  {
   "cell_type": "markdown",
   "metadata": {
    "toc": true
   },
   "source": [
    "<h1>Table of Contents<span class=\"tocSkip\"></span></h1>\n",
    "<div class=\"toc\"><ul class=\"toc-item\"><li><span><a href=\"#Function\" data-toc-modified-id=\"Function-1\"><span class=\"toc-item-num\">1&nbsp;&nbsp;</span>Function</a></span><ul class=\"toc-item\"><li><span><a href=\"#Basics\" data-toc-modified-id=\"Basics-1.1\"><span class=\"toc-item-num\">1.1&nbsp;&nbsp;</span>Basics</a></span></li><li><span><a href=\"#Optional-arguments-and-input\" data-toc-modified-id=\"Optional-arguments-and-input-1.2\"><span class=\"toc-item-num\">1.2&nbsp;&nbsp;</span>Optional arguments and input</a></span></li><li><span><a href=\"#Multiple-returns\" data-toc-modified-id=\"Multiple-returns-1.3\"><span class=\"toc-item-num\">1.3&nbsp;&nbsp;</span>Multiple returns</a></span></li><li><span><a href=\"#Flexible-arguemnts\" data-toc-modified-id=\"Flexible-arguemnts-1.4\"><span class=\"toc-item-num\">1.4&nbsp;&nbsp;</span>Flexible arguemnts</a></span><ul class=\"toc-item\"><li><span><a href=\"#Tuple-of-the-arguments-passed-to-the-function\" data-toc-modified-id=\"Tuple-of-the-arguments-passed-to-the-function-1.4.1\"><span class=\"toc-item-num\">1.4.1&nbsp;&nbsp;</span>Tuple of the arguments passed to the function</a></span></li><li><span><a href=\"#Dictionary-of-the-keywords-passed\" data-toc-modified-id=\"Dictionary-of-the-keywords-passed-1.4.2\"><span class=\"toc-item-num\">1.4.2&nbsp;&nbsp;</span>Dictionary of the keywords passed</a></span></li></ul></li></ul></li><li><span><a href=\"#Class\" data-toc-modified-id=\"Class-2\"><span class=\"toc-item-num\">2&nbsp;&nbsp;</span>Class</a></span><ul class=\"toc-item\"><li><span><a href=\"#STEP-1\" data-toc-modified-id=\"STEP-1-2.1\"><span class=\"toc-item-num\">2.1&nbsp;&nbsp;</span>STEP 1</a></span></li><li><span><a href=\"#STEP-2\" data-toc-modified-id=\"STEP-2-2.2\"><span class=\"toc-item-num\">2.2&nbsp;&nbsp;</span>STEP 2</a></span></li></ul></li><li><span><a href=\"#STEP-3\" data-toc-modified-id=\"STEP-3-3\"><span class=\"toc-item-num\">3&nbsp;&nbsp;</span>STEP 3</a></span></li></ul></div>"
   ]
  },
  {
   "cell_type": "markdown",
   "metadata": {
    "ExecuteTime": {
     "end_time": "2020-07-26T17:20:24.063531Z",
     "start_time": "2020-07-26T17:20:24.059400Z"
    }
   },
   "source": [
    "## Function \n",
    "\n",
    "### Basics\n",
    "\n",
    "```python\n",
    "def function_name(params):\n",
    "    \"\"\"\n",
    "    descriptions \n",
    "    \n",
    "    \"\"\"\n",
    "    statement1\n",
    "    statement2\n",
    "    ...\n",
    "```"
   ]
  },
  {
   "cell_type": "code",
   "execution_count": 7,
   "metadata": {
    "ExecuteTime": {
     "end_time": "2020-07-26T17:23:29.509587Z",
     "start_time": "2020-07-26T17:23:29.506459Z"
    }
   },
   "outputs": [],
   "source": [
    "# example1_function\n",
    "def helloworld():\n",
    "    print(\"'hello world function'\")\n",
    "    print('\"hello world function\"')"
   ]
  },
  {
   "cell_type": "code",
   "execution_count": 8,
   "metadata": {
    "ExecuteTime": {
     "end_time": "2020-07-26T17:23:30.458795Z",
     "start_time": "2020-07-26T17:23:30.455624Z"
    }
   },
   "outputs": [
    {
     "name": "stdout",
     "output_type": "stream",
     "text": [
      "'hello world function'\n",
      "\"hello world function\"\n"
     ]
    }
   ],
   "source": [
    "helloworld()"
   ]
  },
  {
   "cell_type": "markdown",
   "metadata": {
    "ExecuteTime": {
     "end_time": "2020-07-26T17:26:21.843201Z",
     "start_time": "2020-07-26T17:26:21.840121Z"
    }
   },
   "source": [
    "### Optional arguments and input "
   ]
  },
  {
   "cell_type": "code",
   "execution_count": 9,
   "metadata": {
    "ExecuteTime": {
     "end_time": "2020-07-26T17:26:21.843201Z",
     "start_time": "2020-07-26T17:26:21.840121Z"
    }
   },
   "outputs": [],
   "source": [
    "def root_c(x, c=3.0):\n",
    "    \"\"\"\n",
    "    Input: x, c\n",
    "    returns the c root of x\n",
    "    \"\"\"\n",
    "    return x**(1/c)\n",
    "\n",
    "    "
   ]
  },
  {
   "cell_type": "code",
   "execution_count": 10,
   "metadata": {
    "ExecuteTime": {
     "end_time": "2020-07-26T17:26:27.300279Z",
     "start_time": "2020-07-26T17:26:27.290912Z"
    }
   },
   "outputs": [
    {
     "data": {
      "text/plain": [
       "1.4422495703074083"
      ]
     },
     "execution_count": 10,
     "metadata": {},
     "output_type": "execute_result"
    }
   ],
   "source": [
    "root_c(3)"
   ]
  },
  {
   "cell_type": "code",
   "execution_count": 11,
   "metadata": {
    "ExecuteTime": {
     "end_time": "2020-07-26T17:26:40.762812Z",
     "start_time": "2020-07-26T17:26:40.758947Z"
    }
   },
   "outputs": [
    {
     "data": {
      "text/plain": [
       "1.7320508075688772"
      ]
     },
     "execution_count": 11,
     "metadata": {},
     "output_type": "execute_result"
    }
   ],
   "source": [
    "root_c(3, c=2)"
   ]
  },
  {
   "cell_type": "markdown",
   "metadata": {},
   "source": [
    "### Multiple returns"
   ]
  },
  {
   "cell_type": "code",
   "execution_count": 12,
   "metadata": {
    "ExecuteTime": {
     "end_time": "2020-07-26T17:29:09.801671Z",
     "start_time": "2020-07-26T17:29:09.798466Z"
    }
   },
   "outputs": [],
   "source": [
    "def multi_root(x):\n",
    "    \"\"\"\n",
    "    return a,b,c \n",
    "    a = square root of x \n",
    "    b = cube root of x \n",
    "    c = x **0.25\n",
    "    \"\"\"\n",
    "    \n",
    "    return x**0.5 , x**(1/3), x**0.25"
   ]
  },
  {
   "cell_type": "code",
   "execution_count": 13,
   "metadata": {
    "ExecuteTime": {
     "end_time": "2020-07-26T17:29:14.399478Z",
     "start_time": "2020-07-26T17:29:14.395571Z"
    }
   },
   "outputs": [
    {
     "data": {
      "text/plain": [
       "(2.0, 1.5874010519681994, 1.4142135623730951)"
      ]
     },
     "execution_count": 13,
     "metadata": {},
     "output_type": "execute_result"
    }
   ],
   "source": [
    "multi_root(4)"
   ]
  },
  {
   "cell_type": "markdown",
   "metadata": {},
   "source": [
    "### Flexible arguemnts"
   ]
  },
  {
   "cell_type": "markdown",
   "metadata": {},
   "source": [
    "#### Tuple of the arguments passed to the function "
   ]
  },
  {
   "cell_type": "code",
   "execution_count": 15,
   "metadata": {
    "ExecuteTime": {
     "end_time": "2020-07-26T17:35:26.731572Z",
     "start_time": "2020-07-26T17:35:26.728613Z"
    }
   },
   "outputs": [],
   "source": [
    "# ex1 \n",
    "def summation(*x):\n",
    "    print(sum(x))\n"
   ]
  },
  {
   "cell_type": "code",
   "execution_count": 16,
   "metadata": {
    "ExecuteTime": {
     "end_time": "2020-07-26T17:35:26.906952Z",
     "start_time": "2020-07-26T17:35:26.903774Z"
    }
   },
   "outputs": [
    {
     "name": "stdout",
     "output_type": "stream",
     "text": [
      "6\n"
     ]
    }
   ],
   "source": [
    "summation(1,2,3)"
   ]
  },
  {
   "cell_type": "code",
   "execution_count": null,
   "metadata": {},
   "outputs": [],
   "source": [
    "# ex2 \n",
    "t = (6,4)\n",
    "print(mydivmod(x=t[0],y=t[1]))\n",
    "print(mydivmod(*t)) # just add * "
   ]
  },
  {
   "cell_type": "markdown",
   "metadata": {},
   "source": [
    "#### Dictionary of the keywords passed "
   ]
  },
  {
   "cell_type": "code",
   "execution_count": 17,
   "metadata": {
    "ExecuteTime": {
     "end_time": "2020-07-26T17:41:44.891800Z",
     "start_time": "2020-07-26T17:41:44.888626Z"
    }
   },
   "outputs": [],
   "source": [
    "# ex \n",
    "def price(**fruit): # **\n",
    "    print(type(fruit))\n",
    "    for x in fruit :\n",
    "        print( x, 'is ', fruit[x], 'won')"
   ]
  },
  {
   "cell_type": "code",
   "execution_count": 18,
   "metadata": {
    "ExecuteTime": {
     "end_time": "2020-07-26T17:41:48.624301Z",
     "start_time": "2020-07-26T17:41:48.620554Z"
    }
   },
   "outputs": [
    {
     "name": "stdout",
     "output_type": "stream",
     "text": [
      "<class 'dict'>\n",
      "graph is  1000 won\n",
      "apple is  700 won\n",
      "orange is  600 won\n"
     ]
    }
   ],
   "source": [
    "price(graph = 1000, apple = 700, orange = 600)"
   ]
  },
  {
   "cell_type": "code",
   "execution_count": 29,
   "metadata": {
    "ExecuteTime": {
     "end_time": "2020-07-26T17:43:20.571220Z",
     "start_time": "2020-07-26T17:43:20.567202Z"
    }
   },
   "outputs": [],
   "source": [
    "#### Together \n",
    "def totalcost(*count, **fruit) :\n",
    "    sum = 0\n",
    "    i = 0\n",
    "    for x in fruit :\n",
    "        sum += fruit[x]*count[i]\n",
    "        print( x, count[i],\"(ea)\", end = ' ' )\n",
    "        i += 1\n",
    "    print( \" ==> \", sum )"
   ]
  },
  {
   "cell_type": "code",
   "execution_count": 30,
   "metadata": {
    "ExecuteTime": {
     "end_time": "2020-07-26T17:43:21.960627Z",
     "start_time": "2020-07-26T17:43:21.956981Z"
    }
   },
   "outputs": [
    {
     "name": "stdout",
     "output_type": "stream",
     "text": [
      "graph 2 (ea) apple 3 (ea) orange 1 (ea)  ==>  4700\n"
     ]
    }
   ],
   "source": [
    "totalcost( 2, 3, 1, graph = 1000, apple = 700, orange = 600)"
   ]
  },
  {
   "cell_type": "markdown",
   "metadata": {},
   "source": [
    "## Class \n",
    "\n",
    "### STEP 1\n"
   ]
  },
  {
   "cell_type": "code",
   "execution_count": 31,
   "metadata": {
    "ExecuteTime": {
     "end_time": "2020-07-26T17:59:18.708266Z",
     "start_time": "2020-07-26T17:59:18.705647Z"
    }
   },
   "outputs": [],
   "source": [
    "class User:\n",
    "    pass\n"
   ]
  },
  {
   "cell_type": "code",
   "execution_count": null,
   "metadata": {},
   "outputs": [],
   "source": [
    "user1 = User()"
   ]
  },
  {
   "cell_type": "code",
   "execution_count": null,
   "metadata": {},
   "outputs": [],
   "source": [
    "user1.first_name='HoeSung'\n",
    "user1.last_name='Ryu'"
   ]
  },
  {
   "cell_type": "code",
   "execution_count": null,
   "metadata": {},
   "outputs": [],
   "source": [
    "# print dict \n",
    "user1.__dict__"
   ]
  },
  {
   "cell_type": "code",
   "execution_count": null,
   "metadata": {},
   "outputs": [],
   "source": [
    "# add\n",
    "user1.age = 30\n",
    "user1.favorite_food = 'spaghetti\n"
   ]
  },
  {
   "cell_type": "code",
   "execution_count": null,
   "metadata": {},
   "outputs": [],
   "source": [
    "user1.__dict__"
   ]
  },
  {
   "cell_type": "markdown",
   "metadata": {},
   "source": [
    "### STEP 2 \n"
   ]
  },
  {
   "cell_type": "code",
   "execution_count": 32,
   "metadata": {
    "ExecuteTime": {
     "end_time": "2020-07-26T18:02:55.738271Z",
     "start_time": "2020-07-26T18:02:55.735033Z"
    }
   },
   "outputs": [],
   "source": [
    "class User:\n",
    "    def __init__(self, full_name, birthday, favorite_food):\n",
    "        self.name = full_name \n",
    "        self.birthday = birthday ## yyyymmdd\n",
    "        self.favorite_food = favorite_food"
   ]
  },
  {
   "cell_type": "code",
   "execution_count": 33,
   "metadata": {
    "ExecuteTime": {
     "end_time": "2020-07-26T18:02:55.914790Z",
     "start_time": "2020-07-26T18:02:55.911809Z"
    }
   },
   "outputs": [],
   "source": [
    "user2 =User(\"현승\", \"19990909\",'ice_cream')"
   ]
  },
  {
   "cell_type": "code",
   "execution_count": 34,
   "metadata": {
    "ExecuteTime": {
     "end_time": "2020-07-26T18:02:56.061452Z",
     "start_time": "2020-07-26T18:02:56.057679Z"
    }
   },
   "outputs": [
    {
     "data": {
      "text/plain": [
       "'현승'"
      ]
     },
     "execution_count": 34,
     "metadata": {},
     "output_type": "execute_result"
    }
   ],
   "source": [
    "user2.name"
   ]
  },
  {
   "cell_type": "code",
   "execution_count": 35,
   "metadata": {
    "ExecuteTime": {
     "end_time": "2020-07-26T18:02:56.705869Z",
     "start_time": "2020-07-26T18:02:56.701771Z"
    }
   },
   "outputs": [
    {
     "data": {
      "text/plain": [
       "'ice_cream'"
      ]
     },
     "execution_count": 35,
     "metadata": {},
     "output_type": "execute_result"
    }
   ],
   "source": [
    "user2.favorite_food"
   ]
  },
  {
   "cell_type": "markdown",
   "metadata": {},
   "source": [
    "## STEP 3 "
   ]
  },
  {
   "cell_type": "code",
   "execution_count": 38,
   "metadata": {
    "ExecuteTime": {
     "end_time": "2020-07-26T18:04:40.560324Z",
     "start_time": "2020-07-26T18:04:40.555430Z"
    }
   },
   "outputs": [],
   "source": [
    "import datetime\n",
    "\n",
    "class User:\n",
    "    \"\"\"\n",
    "    A member of FriendFace\n",
    "    \n",
    "    \"\"\"\n",
    "    def __init__(self, full_name, birthday,favorite_food):\n",
    "        self.name = full_name \n",
    "        self.birthday = birthday ## yyyymmdd\n",
    "        self.favorite_food = favorite_food\n",
    "        \n",
    "    def age(self):\n",
    "        \"\"\"\n",
    "        Return: age\n",
    "        \"\"\"\n",
    "        current_year = datetime.datetime.now().year\n",
    "        input_age = int(self.birthday[:4])\n",
    "        result_age = current_year - input_age\n",
    "        return int(result_age)\n",
    "    "
   ]
  },
  {
   "cell_type": "code",
   "execution_count": 45,
   "metadata": {
    "ExecuteTime": {
     "end_time": "2020-07-26T18:05:31.217479Z",
     "start_time": "2020-07-26T18:05:31.214594Z"
    }
   },
   "outputs": [],
   "source": [
    "user3 = User(\"조대현\", \"19990202\", '소곱창')"
   ]
  },
  {
   "cell_type": "code",
   "execution_count": 46,
   "metadata": {
    "ExecuteTime": {
     "end_time": "2020-07-26T18:05:31.489320Z",
     "start_time": "2020-07-26T18:05:31.485257Z"
    }
   },
   "outputs": [
    {
     "data": {
      "text/plain": [
       "'조대현'"
      ]
     },
     "execution_count": 46,
     "metadata": {},
     "output_type": "execute_result"
    }
   ],
   "source": [
    "user3.name"
   ]
  },
  {
   "cell_type": "code",
   "execution_count": 47,
   "metadata": {
    "ExecuteTime": {
     "end_time": "2020-07-26T18:05:31.732194Z",
     "start_time": "2020-07-26T18:05:31.728464Z"
    }
   },
   "outputs": [
    {
     "data": {
      "text/plain": [
       "'19990202'"
      ]
     },
     "execution_count": 47,
     "metadata": {},
     "output_type": "execute_result"
    }
   ],
   "source": [
    "user3.birthday"
   ]
  },
  {
   "cell_type": "code",
   "execution_count": 48,
   "metadata": {
    "ExecuteTime": {
     "end_time": "2020-07-26T18:05:31.899399Z",
     "start_time": "2020-07-26T18:05:31.894835Z"
    }
   },
   "outputs": [
    {
     "data": {
      "text/plain": [
       "'소곱창'"
      ]
     },
     "execution_count": 48,
     "metadata": {},
     "output_type": "execute_result"
    }
   ],
   "source": [
    "user3.favorite_food"
   ]
  },
  {
   "cell_type": "code",
   "execution_count": 49,
   "metadata": {
    "ExecuteTime": {
     "end_time": "2020-07-26T18:05:32.079454Z",
     "start_time": "2020-07-26T18:05:32.075141Z"
    }
   },
   "outputs": [
    {
     "data": {
      "text/plain": [
       "21"
      ]
     },
     "execution_count": 49,
     "metadata": {},
     "output_type": "execute_result"
    }
   ],
   "source": [
    "user3.age()"
   ]
  },
  {
   "cell_type": "markdown",
   "metadata": {},
   "source": [
    "<div class=\"alert alert-success\" data-title=\"\">\n",
    "  <h1><i class=\"fa fa-tasks\" aria-hidden=\"true\"></i> Exercise :  3 problems \n",
    "  </h1>\n",
    "</div>"
   ]
  },
  {
   "cell_type": "markdown",
   "metadata": {},
   "source": [
    "Q1. Create three separate functions. \n",
    "- One function should calculate the volume ($v$), \n",
    "- Another to calculate the surface area ($A$).\n",
    "- the other function to calculate the density ($\\rho$) of a sphere.\n",
    "\n",
    "The input variable for these functions should be the radius $r$. With the density function, allow the mass $m$ to be an optional variable that defaults to $m=0.35$.  \n",
    "\n",
    "- Q1-1: Print the volume of a sphere with radius $r=0.69$.\n",
    "- Q1-2: Print the surface area of a sphere with radius $r=0.4$. \n",
    "- Q1-3: Print the density of a sphere with $r = 0.3$ and the default mass. \n",
    "- Q1-4: Print the density of a sphere with $r = 0.25$ and $m=2.0$.\n",
    "\n",
    "---\n",
    "\n",
    "Q2. The general equation for the quadratic equation is $ax^2 + bx + c = 0 $\n",
    "\n",
    "where the solution is \n",
    "\n",
    "$$x_0 = \\frac{-b + \\sqrt{b^2 - 4ac}}{2a} \\\\\n",
    "x_1 = \\frac{-b - \\sqrt{b^2 - 4ac}}{2a}$$\n",
    "\n",
    "Create a function to solve the quadratic formula given $a, b, c$. Return $x_0, x_1$ with your function. Use your function to print the solution when $a = 3.3, b = 1.7, c = -9.4$.\n",
    "\n",
    "---\n",
    "\n",
    "\n",
    "Q3. For given words = `words = ['Seoul','Subway','Happy','Deep Learning','Machine Learning']`, create functions that print below results:\n",
    "         \n",
    "```\n",
    "Seoul            :  {'s': 1, 'e': 1, 'o': 1, 'u': 1, 'l': 1}\n",
    "Subway           :  {'s': 1, 'u': 1, 'b': 1, 'w': 1, 'a': 1, 'y': 1}\n",
    "Happy            :  {'h': 1, 'a': 1, 'p': 2, 'y': 1}\n",
    "Deep Learning    :  {'d': 1, 'e': 3, 'p': 1, 'l': 1, 'a': 1, 'r': 1, 'n': 2, 'i': 1, 'g': 1}\n",
    "Machine Learning :  {'m': 1, 'a': 2, 'c': 1, 'h': 1, 'i': 2, 'n': 3, 'e': 2, 'l': 1, 'r': 1, 'g': 1}\n",
    "```\n",
    "\n",
    "\n"
   ]
  },
  {
   "cell_type": "code",
   "execution_count": 50,
   "metadata": {
    "ExecuteTime": {
     "end_time": "2020-07-27T01:03:53.228197Z",
     "start_time": "2020-07-27T01:03:53.225900Z"
    }
   },
   "outputs": [],
   "source": [
    "# To_do"
   ]
  }
 ],
 "metadata": {
  "hide_input": false,
  "kernelspec": {
   "display_name": "Python 3",
   "language": "python",
   "name": "python3"
  },
  "language_info": {
   "codemirror_mode": {
    "name": "ipython",
    "version": 3
   },
   "file_extension": ".py",
   "mimetype": "text/x-python",
   "name": "python",
   "nbconvert_exporter": "python",
   "pygments_lexer": "ipython3",
   "version": "3.7.6"
  },
  "toc": {
   "base_numbering": 1,
   "nav_menu": {},
   "number_sections": true,
   "sideBar": true,
   "skip_h1_title": true,
   "title_cell": "Table of Contents",
   "title_sidebar": "Contents",
   "toc_cell": true,
   "toc_position": {
    "height": "calc(100% - 180px)",
    "left": "10px",
    "top": "150px",
    "width": "152.727px"
   },
   "toc_section_display": true,
   "toc_window_display": true
  },
  "varInspector": {
   "cols": {
    "lenName": 16,
    "lenType": 16,
    "lenVar": 40
   },
   "kernels_config": {
    "python": {
     "delete_cmd_postfix": "",
     "delete_cmd_prefix": "del ",
     "library": "var_list.py",
     "varRefreshCmd": "print(var_dic_list())"
    },
    "r": {
     "delete_cmd_postfix": ") ",
     "delete_cmd_prefix": "rm(",
     "library": "var_list.r",
     "varRefreshCmd": "cat(var_dic_list()) "
    }
   },
   "types_to_exclude": [
    "module",
    "function",
    "builtin_function_or_method",
    "instance",
    "_Feature"
   ],
   "window_display": false
  }
 },
 "nbformat": 4,
 "nbformat_minor": 4
}
