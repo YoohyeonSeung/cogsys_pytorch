{
 "cells": [
  {
   "cell_type": "markdown",
   "metadata": {},
   "source": [
    "# Single-layer Perceptron\n",
    "<div align='right'> Hoe Sung Ryu ( 류 회 성 ) </div>\n",
    "<div align='right'> Minsuk Sung ( 성 민 석) </div>\n",
    "\n",
    "<img src=https://i.ytimg.com/vi/ahF9T7pYy3U/maxresdefault.jpg width=70%>\n",
    "\n",
    "\n",
    "    \n",
    "> Author: Hoe Sung Ryu, Minsuk Sung  <p>\n",
    "> Tel: 010-6636-7275 / skainf23@gamil.com // 010-5134-3621 / minsuksung@korea.ac.kr <p>\n",
    "> 본 내용은 파이토치를 활용한 딥러닝 과외 자료입니다. 본 내용을 제작자의 동의없이 무단으로 복제하는 행위는 금합니다.\n",
    "    \n",
    "\n",
    "---\n",
    "\n",
    "Syllabus\n",
    "    \n",
    "|Event Type|Date|Topic|\n",
    "|--:|:---:|:---|\n",
    "|1 |July 27| Environment setting and Python basic|\n",
    "|2 |July 28| Pytorch basic and Custom Data load |\n",
    "|3 |July 29| Traditional Machine Learning(1) |\n",
    "|4 |July 30| Traditional Machine Learning(2) |\n",
    "|5 |July 31| CNN(Convolutional Neural Network)(1)  |\n",
    "|6 |Aug 03| CNN(Convolutional NeuralNetwork)(2) |\n",
    "|7 |Aug 04|  RNN(Recurrent Neural Networks)(1) |\n",
    "|8 |Aug 05|  RNN(Recurrent Neural Networks)(2) |\n",
    "|9 |Aug 06|  Transfer learning(VGG pertained on ImageNEt for CIfar-10)| \n",
    "|10|Aug 07|**Mini_Kaggle**: Facial Expression Recognition on `AffectNet` | \n",
    "|11|Aug 08|`Awards` and `Closing`| \n"
   ]
  },
  {
   "cell_type": "markdown",
   "metadata": {
    "toc": true
   },
   "source": [
    "<h1>Table of Contents<span class=\"tocSkip\"></span></h1>\n",
    "<div class=\"toc\"><ul class=\"toc-item\"><li><span><a href=\"#Single-layer-Perceptron\" data-toc-modified-id=\"Single-layer-Perceptron-1\"><span class=\"toc-item-num\">1&nbsp;&nbsp;</span>Single-layer Perceptron</a></span></li><li><span><a href=\"#Preprocessing\" data-toc-modified-id=\"Preprocessing-2\"><span class=\"toc-item-num\">2&nbsp;&nbsp;</span>Preprocessing</a></span></li><li><span><a href=\"#Dataset\" data-toc-modified-id=\"Dataset-3\"><span class=\"toc-item-num\">3&nbsp;&nbsp;</span>Dataset</a></span></li><li><span><a href=\"#DatasetLoader\" data-toc-modified-id=\"DatasetLoader-4\"><span class=\"toc-item-num\">4&nbsp;&nbsp;</span>DatasetLoader</a></span></li><li><span><a href=\"#Define-the-model\" data-toc-modified-id=\"Define-the-model-5\"><span class=\"toc-item-num\">5&nbsp;&nbsp;</span>Define the model</a></span></li><li><span><a href=\"#Model-Compile\" data-toc-modified-id=\"Model-Compile-6\"><span class=\"toc-item-num\">6&nbsp;&nbsp;</span>Model Compile</a></span></li><li><span><a href=\"#Loss-and-optimizer\" data-toc-modified-id=\"Loss-and-optimizer-7\"><span class=\"toc-item-num\">7&nbsp;&nbsp;</span>Loss and optimizer</a></span></li><li><span><a href=\"#Model-Train-and-Evaluation\" data-toc-modified-id=\"Model-Train-and-Evaluation-8\"><span class=\"toc-item-num\">8&nbsp;&nbsp;</span>Model Train and Evaluation</a></span></li><li><span><a href=\"#Visulization\" data-toc-modified-id=\"Visulization-9\"><span class=\"toc-item-num\">9&nbsp;&nbsp;</span>Visulization</a></span></li></ul></div>"
   ]
  },
  {
   "cell_type": "markdown",
   "metadata": {},
   "source": [
    "## Single-layer Perceptron\n",
    "\n",
    "<img src=https://miro.medium.com/max/1400/1*-uNOPSyB7IOk9inA-brIBg.png width=70%>\n",
    "<br>\n",
    "Let’s first observe how the single-layer perceptron model is implemented.\n",
    "Single-layer perceptron takes data as input and its weights are summed up then an activation function is applied before sent to the output layer.\n",
    "For the single-layer perceptron model, the `step function` is normally used as an Activtaion function.\n",
    "\n",
    "However, we will used `sigmoid function` since heavy-side step function is non-differentiable at x = 0 and it has 0 derivatives elsewhere, meaning the gradient descent won’t be able to make a progress in weight updates.\n",
    "Therefore, step function is not suitable for the neural network."
   ]
  },
  {
   "cell_type": "code",
   "execution_count": 5,
   "metadata": {
    "ExecuteTime": {
     "end_time": "2020-07-28T18:27:10.505035Z",
     "start_time": "2020-07-28T18:27:09.932626Z"
    }
   },
   "outputs": [],
   "source": [
    "# import \n",
    "import numpy as np\n",
    "import matplotlib.pyplot as plt\n",
    "import torch\n",
    "%matplotlib inline"
   ]
  },
  {
   "cell_type": "code",
   "execution_count": 6,
   "metadata": {
    "ExecuteTime": {
     "end_time": "2020-07-28T18:27:10.538807Z",
     "start_time": "2020-07-28T18:27:10.535712Z"
    }
   },
   "outputs": [],
   "source": [
    "# define function\n",
    "def step_function(x):\n",
    "    return np.array(x > 0, dtype=np.int) \n",
    "\n",
    "def sigmoid(x):\n",
    "    return 1 / (1 + np.exp(-x))"
   ]
  },
  {
   "cell_type": "code",
   "execution_count": 7,
   "metadata": {
    "ExecuteTime": {
     "end_time": "2020-07-28T18:27:10.722718Z",
     "start_time": "2020-07-28T18:27:10.566914Z"
    }
   },
   "outputs": [
    {
     "data": {
      "image/png": "[encoded data removed]",
      "text/plain": [
       "<Figure size 432x288 with 1 Axes>"
      ]
     },
     "metadata": {
      "needs_background": "light"
     },
     "output_type": "display_data"
    }
   ],
   "source": [
    "X = np.arange(-5.0, 5.0, 0.1)\n",
    "Y_sig = sigmoid(X)\n",
    "Y_step = step_function(X)\n",
    "plt.plot(X, Y_sig,label='Sigmoid Function')\n",
    "plt.plot(X, Y_step,linestyle='--',label='Step Function')\n",
    "plt.legend()\n",
    "plt.show()"
   ]
  },
  {
   "cell_type": "markdown",
   "metadata": {},
   "source": [
    "---\n",
    "\n",
    "<img srcset=\"https://img1.daumcdn.net/thumb/R1280x0/?scode=mtistory2&amp;fname=http%3A%2F%2Fcfile27.uf.tistory.com%2Fimage%2F99C5833D5B3F1FBF0A165B\" src=\"https://t1.daumcdn.net/cfile/tistory/99C5833D5B3F1FBF0A\" style=\"cursor: pointer;max-width:100%;height:auto\" width=\"500\" height=\"314\" filename=\"캡처19.PNG\" filemime=\"image/jpeg\">"
   ]
  },
  {
   "cell_type": "code",
   "execution_count": 8,
   "metadata": {
    "ExecuteTime": {
     "end_time": "2020-07-28T18:27:11.376408Z",
     "start_time": "2020-07-28T18:27:11.369731Z"
    }
   },
   "outputs": [
    {
     "name": "stdout",
     "output_type": "stream",
     "text": [
      "Class label counts: [500 500]\n",
      "X.shape: (1000, 2)\n",
      "y.shape: (1000,)\n"
     ]
    }
   ],
   "source": [
    "# Data\n",
    "from sklearn.datasets import make_blobs\n",
    "\n",
    "n_samples=1000\n",
    "n_features=2\n",
    "X, y = make_blobs(n_samples=n_samples, centers=2, n_features=n_features, random_state=42)\n",
    "\n",
    "print('Class label counts:', np.bincount(y))\n",
    "print('X.shape:', X.shape)\n",
    "print('y.shape:', y.shape)"
   ]
  },
  {
   "cell_type": "code",
   "execution_count": 10,
   "metadata": {
    "ExecuteTime": {
     "end_time": "2020-07-28T18:27:12.524417Z",
     "start_time": "2020-07-28T18:27:12.352899Z"
    }
   },
   "outputs": [
    {
     "data": {
      "image/png": "[encoded data removed]",
      "text/plain": [
       "<Figure size 432x288 with 1 Axes>"
      ]
     },
     "metadata": {
      "needs_background": "light"
     },
     "output_type": "display_data"
    }
   ],
   "source": [
    "# Visualization with matplotlib\n",
    "plt.title('Visualization train & test')\n",
    "plt.scatter(X[y==0,:][:,0], X[y==0,:][:,1], label='class 0', marker='o',color='r', alpha=0.3)\n",
    "plt.scatter(X[y==1,:][:,0], X[y==1,:][:,1], label='class 1', marker='s', alpha=0.4)\n",
    "plt.xlabel('feature 1')\n",
    "plt.ylabel('feature 2')\n",
    "plt.legend()\n",
    "plt.show()"
   ]
  },
  {
   "cell_type": "markdown",
   "metadata": {},
   "source": [
    "## Preprocessing \n",
    "```\n",
    "Input: X, y\n",
    "module: from sklearn.model_selection import train_test_split\n",
    "test_size: 42\n",
    "```"
   ]
  },
  {
   "cell_type": "code",
   "execution_count": null,
   "metadata": {},
   "outputs": [],
   "source": [
    "# TO_DO"
   ]
  },
  {
   "cell_type": "markdown",
   "metadata": {},
   "source": [
    "## Dataset \n",
    "```python\n",
    "class MyDataset(Dataset):\n",
    "    def __init__(self,X,y):\n",
    "        \n",
    "\n",
    "    def __len__(self):\n",
    "\n",
    "    \n",
    "    def __getitem__(self,idx):\n",
    "\n",
    "        return _x, _y\n",
    "    \n",
    "train_dataset = MyDataset(X_train,y_train)\n",
    "test_dataset = MyDataset(X_test,y_test)\n",
    "```\n",
    "\n",
    "## DatasetLoader\n",
    "```\n",
    "Input: train_dataset , test_dataset\n",
    "Output: train_dataloader, test_dataloader\n",
    "batch_size: 10\n",
    "```"
   ]
  },
  {
   "cell_type": "code",
   "execution_count": 14,
   "metadata": {
    "ExecuteTime": {
     "end_time": "2020-07-28T17:47:49.521381Z",
     "start_time": "2020-07-28T17:47:49.515149Z"
    }
   },
   "outputs": [],
   "source": [
    "import torch\n",
    "from torch.utils.data import Dataset\n",
    "from torch.utils.data import DataLoader\n",
    "# TO_DO\n"
   ]
  },
  {
   "cell_type": "markdown",
   "metadata": {},
   "source": [
    "## Define the model\n",
    "\n",
    "```\n",
    "model name : Perceptron\n",
    "\n",
    "Layer1\n",
    "    1) Fully-connected-layer\n",
    "    2) Sigmoid\n",
    "```"
   ]
  },
  {
   "cell_type": "code",
   "execution_count": 16,
   "metadata": {
    "ExecuteTime": {
     "end_time": "2020-07-28T17:47:51.374406Z",
     "start_time": "2020-07-28T17:47:51.371766Z"
    }
   },
   "outputs": [],
   "source": [
    "import torch.nn as nn\n",
    "# TODO"
   ]
  },
  {
   "cell_type": "markdown",
   "metadata": {},
   "source": [
    "## Model Compile "
   ]
  },
  {
   "cell_type": "code",
   "execution_count": 19,
   "metadata": {
    "ExecuteTime": {
     "end_time": "2020-07-28T17:47:57.445252Z",
     "start_time": "2020-07-28T17:47:57.438959Z"
    }
   },
   "outputs": [
    {
     "name": "stdout",
     "output_type": "stream",
     "text": [
      "Parameters after learning:  [tensor([[0.0595, 0.1365]]), tensor([-0.3367])]\n"
     ]
    }
   ],
   "source": [
    "model = Perceptron()\n",
    "# parameter check\n",
    "print(\"Parameters after learning: \",[p.data for p in model.parameters()])"
   ]
  },
  {
   "cell_type": "markdown",
   "metadata": {},
   "source": [
    "## Loss and optimizer\n",
    "```\n",
    "loss: BinaryCrossEntropy()\n",
    "optimizer: SGD \n",
    "```"
   ]
  },
  {
   "cell_type": "code",
   "execution_count": 1,
   "metadata": {
    "ExecuteTime": {
     "end_time": "2020-07-28T18:35:51.309871Z",
     "start_time": "2020-07-28T18:35:51.307484Z"
    }
   },
   "outputs": [],
   "source": [
    "# TODO"
   ]
  },
  {
   "cell_type": "markdown",
   "metadata": {},
   "source": [
    "## Model Train and Evaluation\n",
    "```\n",
    "Epochs = 10\n",
    "\n",
    "output\n",
    "    1) Loss\n",
    "    2) Accuracy\n",
    "```"
   ]
  },
  {
   "cell_type": "code",
   "execution_count": null,
   "metadata": {},
   "outputs": [],
   "source": [
    "# TODO"
   ]
  },
  {
   "cell_type": "markdown",
   "metadata": {},
   "source": [
    "## Visulization\n",
    "\n",
    "```\n",
    "subplot(1): \n",
    "        Train,Test Loss \n",
    "subplot(2):\n",
    "        Train, Test Accuracy \n",
    "```"
   ]
  },
  {
   "cell_type": "code",
   "execution_count": null,
   "metadata": {},
   "outputs": [],
   "source": [
    "# TODO"
   ]
  }
 ],
 "metadata": {
  "hide_input": false,
  "kernelspec": {
   "display_name": "Python 3",
   "language": "python",
   "name": "python3"
  },
  "language_info": {
   "codemirror_mode": {
    "name": "ipython",
    "version": 3
   },
   "file_extension": ".py",
   "mimetype": "text/x-python",
   "name": "python",
   "nbconvert_exporter": "python",
   "pygments_lexer": "ipython3",
   "version": "3.7.6"
  },
  "toc": {
   "base_numbering": 1,
   "nav_menu": {},
   "number_sections": true,
   "sideBar": true,
   "skip_h1_title": true,
   "title_cell": "Table of Contents",
   "title_sidebar": "Contents",
   "toc_cell": true,
   "toc_position": {},
   "toc_section_display": true,
   "toc_window_display": false
  },
  "varInspector": {
   "cols": {
    "lenName": 16,
    "lenType": 16,
    "lenVar": 40
   },
   "kernels_config": {
    "python": {
     "delete_cmd_postfix": "",
     "delete_cmd_prefix": "del ",
     "library": "var_list.py",
     "varRefreshCmd": "print(var_dic_list())"
    },
    "r": {
     "delete_cmd_postfix": ") ",
     "delete_cmd_prefix": "rm(",
     "library": "var_list.r",
     "varRefreshCmd": "cat(var_dic_list()) "
    }
   },
   "types_to_exclude": [
    "module",
    "function",
    "builtin_function_or_method",
    "instance",
    "_Feature"
   ],
   "window_display": false
  }
 },
 "nbformat": 4,
 "nbformat_minor": 4
}
