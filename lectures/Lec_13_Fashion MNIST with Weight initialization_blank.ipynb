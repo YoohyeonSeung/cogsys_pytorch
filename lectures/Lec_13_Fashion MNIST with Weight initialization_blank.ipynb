{
 "cells": [
  {
   "cell_type": "markdown",
   "metadata": {},
   "source": [
    "# Lec_13_Fashion MNIST\n",
    "<font size=5><b>Weight initialization<b></font>\n",
    "<div align='right'> Hoe Sung Ryu ( 류 회 성 ) </div>\n",
    "    \n",
    "\n",
    "\n",
    "<img src= https://leejunhyun.github.io/assets/img/TensorFlow/Fashion-MNIST-01.png>\n",
    "    \n",
    "---\n",
    "    \n",
    "Syllabus\n",
    "\n",
    "|Event Type|Date|Topic|\n",
    "|--:|:---:|:---|\n",
    "|1 |July 27| Environment setting and Python basic|\n",
    "|2 |July 28| Pytorch basic and Custom Data load |\n",
    "|3 |July 29| Traditional Machine Learning(1) |\n",
    "|4 |July 30| Traditional Machine Learning(2) |\n",
    "|5 |July 31| CNN(Convolutional Neural Network)(1)  |\n",
    "|6 |Aug 03| CNN(Convolutional NeuralNetwork)(2) |\n",
    "|7 |Aug 04|  RNN(Recurrent Neural Networks)(1) |\n",
    "|8 |Aug 05|  RNN(Recurrent Neural Networks)(2) |\n",
    "|9 |Aug 06|  Transfer learning(VGG pertained on ImageNEt for CIfar-10)| \n",
    "|10|Aug 07|**Mini_Kaggle**: Facial Expression Recognition on `AffectNet` | \n",
    "|11|Aug 08|`Awards` and `Closing`| \n",
    "\n",
    "---\n",
    "\n",
    "\n",
    "\n"
   ]
  },
  {
   "cell_type": "markdown",
   "metadata": {
    "toc": true
   },
   "source": [
    "<h1>Table of Contents<span class=\"tocSkip\"></span></h1>\n",
    "<div class=\"toc\"><ul class=\"toc-item\"><li><span><a href=\"#Today\" data-toc-modified-id=\"Today-1\"><span class=\"toc-item-num\">1&nbsp;&nbsp;</span>Today</a></span></li><li><span><a href=\"#Initialization\" data-toc-modified-id=\"Initialization-2\"><span class=\"toc-item-num\">2&nbsp;&nbsp;</span>Initialization</a></span></li><li><span><a href=\"#Xaiver-initialization\" data-toc-modified-id=\"Xaiver-initialization-3\"><span class=\"toc-item-num\">3&nbsp;&nbsp;</span>Xaiver initialization</a></span><ul class=\"toc-item\"><li><span><a href=\"#Xavier-normal-initialization\" data-toc-modified-id=\"Xavier-normal-initialization-3.1\"><span class=\"toc-item-num\">3.1&nbsp;&nbsp;</span>Xavier normal initialization</a></span></li><li><span><a href=\"#Xavier-Uniform--initialization\" data-toc-modified-id=\"Xavier-Uniform--initialization-3.2\"><span class=\"toc-item-num\">3.2&nbsp;&nbsp;</span>Xavier Uniform  initialization</a></span></li></ul></li><li><span><a href=\"#He-initialization\" data-toc-modified-id=\"He-initialization-4\"><span class=\"toc-item-num\">4&nbsp;&nbsp;</span>He initialization</a></span><ul class=\"toc-item\"><li><span><a href=\"#He-normal-initialization\" data-toc-modified-id=\"He-normal-initialization-4.1\"><span class=\"toc-item-num\">4.1&nbsp;&nbsp;</span>He normal initialization</a></span></li><li><span><a href=\"#He-Uniform-initialization\" data-toc-modified-id=\"He-Uniform-initialization-4.2\"><span class=\"toc-item-num\">4.2&nbsp;&nbsp;</span>He Uniform initialization</a></span></li></ul></li><li><span><a href=\"#Pytorch-Initialization\" data-toc-modified-id=\"Pytorch-Initialization-5\"><span class=\"toc-item-num\">5&nbsp;&nbsp;</span>Pytorch Initialization</a></span></li><li><span><a href=\"#Model-Build\" data-toc-modified-id=\"Model-Build-6\"><span class=\"toc-item-num\">6&nbsp;&nbsp;</span>Model Build</a></span></li><li><span><a href=\"#Set-Loss-and-Optimizer\" data-toc-modified-id=\"Set-Loss-and-Optimizer-7\"><span class=\"toc-item-num\">7&nbsp;&nbsp;</span>Set Loss and Optimizer</a></span></li><li><span><a href=\"#Train-Test\" data-toc-modified-id=\"Train-Test-8\"><span class=\"toc-item-num\">8&nbsp;&nbsp;</span>Train Test</a></span></li></ul></div>"
   ]
  },
  {
   "cell_type": "markdown",
   "metadata": {},
   "source": [
    "## Today\n",
    "\n",
    "- Again, Nice work everyone!\n",
    "- Dropout Layer should be in the middle of the Neural Net\n",
    "- BatchNorm Layer should be created for each linear layer\n",
    "- Increase Batch Size around 128~512\n",
    "- Xavier initialization should be done in __init__ method\n",
    "- Linear-->activation-->BatchNorm-->Dropout Order for MLP\n",
    "\n",
    "reference:\n",
    "- https://stackoverflow.com/questions/49433936/how-to-initialize-weights-in-pytorch"
   ]
  },
  {
   "cell_type": "markdown",
   "metadata": {},
   "source": [
    "## Initialization \n",
    "\n",
    "<img src=https://user-images.githubusercontent.com/33112206/36579904-aae2350e-18a0-11e8-89aa-fc7e3876c0c3.png>\n"
   ]
  },
  {
   "cell_type": "markdown",
   "metadata": {},
   "source": [
    "## Xaiver initialization\n",
    "\n",
    "### Xavier normal initialization\n",
    "$$W \\sim N(0, \\sqrt{\\frac 2 {n_{in}+n_{out}})}$$\n",
    "### Xavier Uniform  initialization\n",
    "\n",
    "$$W \\sim Unif(-\\sqrt{\\frac 6 {n_{in}+n_{out}}},\\;\\sqrt{\\frac 6 {n_{in}+n_{out}}})$$"
   ]
  },
  {
   "cell_type": "markdown",
   "metadata": {},
   "source": [
    "## He initialization\n",
    "### He normal initialization\n",
    "$$ W \\sim N(0, \\sqrt{\\frac 2 {n_{in}})}$$\n",
    "\n",
    "### He Uniform initialization\n",
    "$$ W \\sim Unif(-\\sqrt{\\frac 6 {n_{in}}},\\;\\sqrt{\\frac 6 {n_{in}}})$$"
   ]
  },
  {
   "cell_type": "markdown",
   "metadata": {},
   "source": [
    "## Pytorch Initialization \n",
    "\n",
    "**To initialize layers you typically don't need to do anything. PyTorch will do it for you**\n",
    "Each layer has different type of dafault initialization with respect to. \n",
    "For example, default initialization of `torch.nn.Linear()`is and `nn.Conv2d` is Xavier initialization\n",
    "\n",
    "reference: https://pytorch.org/docs/stable/nn.init.html\n",
    "\n",
    "- nn.init.uniform_(tensor, a=0, b=1) # a: lower_bound, b: upper_bound\n",
    "- nn.init.normal_(tensor, mean=0, std=1)\n",
    "- nn.init.constant_(tensor, value)"
   ]
  },
  {
   "cell_type": "code",
   "execution_count": 115,
   "metadata": {
    "ExecuteTime": {
     "end_time": "2020-07-29T17:13:44.296469Z",
     "start_time": "2020-07-29T17:13:44.260066Z"
    }
   },
   "outputs": [],
   "source": [
    "import torch\n",
    "from torchvision import datasets, transforms\n",
    "\n",
    "# Download and load the training data\n",
    "trainset = datasets.FashionMNIST('~/.pytorch/F_MNIST_data/',\n",
    "                                 download=False,\n",
    "                                 train=True, \n",
    "                                 transform=transforms.Compose([transforms.ToTensor(),\n",
    "                                                               transforms.Normalize((0.5),\n",
    "                                                                                    (0.5))]))\n",
    "\n",
    "testset = datasets.FashionMNIST('~/.pytorch/F_MNIST_data/',\n",
    "                                 download=False,\n",
    "                                 train=False, \n",
    "                                 transform=transforms.Compose([transforms.ToTensor(),\n",
    "                                                               transforms.Normalize((0.5),\n",
    "                                                                                    (0.5))]))"
   ]
  },
  {
   "cell_type": "code",
   "execution_count": 116,
   "metadata": {
    "ExecuteTime": {
     "end_time": "2020-07-29T17:13:44.454435Z",
     "start_time": "2020-07-29T17:13:44.447887Z"
    }
   },
   "outputs": [],
   "source": [
    "train_loader = \n",
    "test_loader = "
   ]
  },
  {
   "cell_type": "markdown",
   "metadata": {},
   "source": [
    "## Model Build\n",
    "\n"
   ]
  },
  {
   "cell_type": "code",
   "execution_count": 122,
   "metadata": {
    "ExecuteTime": {
     "end_time": "2020-07-29T17:13:46.697326Z",
     "start_time": "2020-07-29T17:13:46.694341Z"
    }
   },
   "outputs": [],
   "source": [
    "import torch.nn as nn"
   ]
  },
  {
   "cell_type": "code",
   "execution_count": null,
   "metadata": {},
   "outputs": [],
   "source": [
    "# copy best model you found in lec_12 :)"
   ]
  },
  {
   "cell_type": "code",
   "execution_count": 173,
   "metadata": {
    "ExecuteTime": {
     "end_time": "2020-07-29T17:53:23.875683Z",
     "start_time": "2020-07-29T17:53:23.855231Z"
    },
    "collapsed": true
   },
   "outputs": [
    {
     "ename": "AttributeError",
     "evalue": "module 'torch.nn.init' has no attribute 'use_xavier'",
     "output_type": "error",
     "traceback": [
      "\u001b[0;31m---------------------------------------------------------------------------\u001b[0m",
      "\u001b[0;31mAttributeError\u001b[0m                            Traceback (most recent call last)",
      "\u001b[0;32m<ipython-input-173-a1cb8f813e46>\u001b[0m in \u001b[0;36m<module>\u001b[0;34m\u001b[0m\n\u001b[0;32m----> 1\u001b[0;31m \u001b[0mmodel\u001b[0m \u001b[0;34m=\u001b[0m \u001b[0mMLP_1\u001b[0m\u001b[0;34m(\u001b[0m\u001b[0mn_in\u001b[0m\u001b[0;34m=\u001b[0m\u001b[0;36m28\u001b[0m\u001b[0;34m*\u001b[0m\u001b[0;36m28\u001b[0m\u001b[0;34m*\u001b[0m\u001b[0;36m1\u001b[0m\u001b[0;34m,\u001b[0m \u001b[0mn_mid\u001b[0m \u001b[0;34m=\u001b[0m\u001b[0;36m80\u001b[0m\u001b[0;34m,\u001b[0m \u001b[0mn_out\u001b[0m\u001b[0;34m=\u001b[0m\u001b[0;36m10\u001b[0m\u001b[0;34m)\u001b[0m\u001b[0;34m\u001b[0m\u001b[0;34m\u001b[0m\u001b[0m\n\u001b[0m\u001b[1;32m      2\u001b[0m \u001b[0mprint\u001b[0m\u001b[0;34m(\u001b[0m\u001b[0mmodel\u001b[0m\u001b[0;34m)\u001b[0m\u001b[0;34m\u001b[0m\u001b[0;34m\u001b[0m\u001b[0m\n",
      "\u001b[0;32m<ipython-input-171-6ec8ff1b4e66>\u001b[0m in \u001b[0;36m__init__\u001b[0;34m(self, n_in, n_mid, n_out)\u001b[0m\n\u001b[1;32m     15\u001b[0m         \u001b[0mself\u001b[0m\u001b[0;34m.\u001b[0m\u001b[0mfc3\u001b[0m \u001b[0;34m=\u001b[0m \u001b[0mnn\u001b[0m\u001b[0;34m.\u001b[0m\u001b[0mLinear\u001b[0m\u001b[0;34m(\u001b[0m\u001b[0mn_mid\u001b[0m\u001b[0;34m,\u001b[0m \u001b[0mn_out\u001b[0m\u001b[0;34m)\u001b[0m\u001b[0;34m\u001b[0m\u001b[0;34m\u001b[0m\u001b[0m\n\u001b[1;32m     16\u001b[0m \u001b[0;34m\u001b[0m\u001b[0m\n\u001b[0;32m---> 17\u001b[0;31m         \u001b[0mself\u001b[0m\u001b[0;34m.\u001b[0m\u001b[0minitialize_weights\u001b[0m\u001b[0;34m(\u001b[0m\u001b[0;34m)\u001b[0m\u001b[0;34m\u001b[0m\u001b[0;34m\u001b[0m\u001b[0m\n\u001b[0m\u001b[1;32m     18\u001b[0m \u001b[0;34m\u001b[0m\u001b[0m\n\u001b[1;32m     19\u001b[0m     \u001b[0;32mdef\u001b[0m \u001b[0mforward\u001b[0m\u001b[0;34m(\u001b[0m\u001b[0mself\u001b[0m\u001b[0;34m,\u001b[0m \u001b[0mx\u001b[0m\u001b[0;34m)\u001b[0m\u001b[0;34m:\u001b[0m\u001b[0;34m\u001b[0m\u001b[0;34m\u001b[0m\u001b[0m\n",
      "\u001b[0;32m<ipython-input-171-6ec8ff1b4e66>\u001b[0m in \u001b[0;36minitialize_weights\u001b[0;34m(self)\u001b[0m\n\u001b[1;32m     40\u001b[0m \u001b[0;34m\u001b[0m\u001b[0m\n\u001b[1;32m     41\u001b[0m             \u001b[0;32melif\u001b[0m \u001b[0misinstance\u001b[0m\u001b[0;34m(\u001b[0m\u001b[0mm\u001b[0m\u001b[0;34m,\u001b[0m \u001b[0mnn\u001b[0m\u001b[0;34m.\u001b[0m\u001b[0mDropout\u001b[0m\u001b[0;34m)\u001b[0m\u001b[0;34m:\u001b[0m\u001b[0;34m\u001b[0m\u001b[0;34m\u001b[0m\u001b[0m\n\u001b[0;32m---> 42\u001b[0;31m                 \u001b[0mnn\u001b[0m\u001b[0;34m.\u001b[0m\u001b[0minit\u001b[0m\u001b[0;34m.\u001b[0m\u001b[0muse_xavier\u001b[0m\u001b[0;34m(\u001b[0m\u001b[0mm\u001b[0m\u001b[0;34m.\u001b[0m\u001b[0mweight\u001b[0m\u001b[0;34m)\u001b[0m\u001b[0;34m\u001b[0m\u001b[0;34m\u001b[0m\u001b[0m\n\u001b[0m\u001b[1;32m     43\u001b[0m \u001b[0;34m\u001b[0m\u001b[0m\n\u001b[1;32m     44\u001b[0m \u001b[0;34m\u001b[0m\u001b[0m\n",
      "\u001b[0;31mAttributeError\u001b[0m: module 'torch.nn.init' has no attribute 'use_xavier'"
     ]
    }
   ],
   "source": [
    "model = \n",
    "print(model)"
   ]
  },
  {
   "cell_type": "code",
   "execution_count": 151,
   "metadata": {
    "ExecuteTime": {
     "end_time": "2020-07-29T17:26:43.372604Z",
     "start_time": "2020-07-29T17:26:43.368065Z"
    }
   },
   "outputs": [
    {
     "name": "stdout",
     "output_type": "stream",
     "text": [
      "Num of Total Parameter :  70410\n",
      "Num of Trainable Parameter : 70410\n"
     ]
    }
   ],
   "source": [
    "total_params = sum(p.numel() for p in model.parameters())\n",
    "print(\"Num of Total Parameter : \",total_params)\n",
    "trainable_params = sum(p.numel() for p in model.parameters() if p.requires_grad)\n",
    "print(\"Num of Trainable Parameter :\",trainable_params)"
   ]
  },
  {
   "cell_type": "markdown",
   "metadata": {},
   "source": [
    "## Set Loss and Optimizer "
   ]
  },
  {
   "cell_type": "code",
   "execution_count": 152,
   "metadata": {
    "ExecuteTime": {
     "end_time": "2020-07-29T17:26:44.237779Z",
     "start_time": "2020-07-29T17:26:44.233960Z"
    }
   },
   "outputs": [],
   "source": [
    "import torch.nn as nn\n",
    "import torch.optim as optim\n"
   ]
  },
  {
   "cell_type": "markdown",
   "metadata": {},
   "source": [
    "## Train Test"
   ]
  },
  {
   "cell_type": "code",
   "execution_count": 153,
   "metadata": {
    "ExecuteTime": {
     "end_time": "2020-07-29T17:26:45.470338Z",
     "start_time": "2020-07-29T17:26:45.465616Z"
    }
   },
   "outputs": [],
   "source": [
    "def train(epoch):\n",
    "    model.train() # Train_mode \n",
    "\n",
    "    for data,targets in train_loader:\n",
    "       \n",
    "\n",
    "    print(f'[TRAIN] Epoch {epoch} \\t Loss: {loss.item():1.5f}',end=' ')"
   ]
  },
  {
   "cell_type": "code",
   "execution_count": 154,
   "metadata": {
    "ExecuteTime": {
     "end_time": "2020-07-29T17:26:45.871177Z",
     "start_time": "2020-07-29T17:26:45.865240Z"
    }
   },
   "outputs": [],
   "source": [
    "def test(epoch):\n",
    "    model.eval() # Test_mode \n",
    "    correct = 0\n",
    "    \n",
    "    with torch.no_grad(): \n",
    "        for data, targets in test_loader:\n",
    "            \n",
    "\n",
    "    \n",
    "    data_num = len(test_loader.dataset) \n",
    "    print(f'[TEST] Epoch {epoch} \\t Accuracy: {correct}/{data_num} ({100.*correct/data_num :3.5f}%)')"
   ]
  },
  {
   "cell_type": "code",
   "execution_count": 155,
   "metadata": {
    "ExecuteTime": {
     "end_time": "2020-07-29T17:27:45.763101Z",
     "start_time": "2020-07-29T17:26:47.080472Z"
    }
   },
   "outputs": [
    {
     "name": "stdout",
     "output_type": "stream",
     "text": [
      "[TRAIN] Epoch 1 \t Loss: 0.46181 [TEST] Epoch 1 \t Accuracy: 50136/60000 (83.56000%)\n",
      "[TRAIN] Epoch 2 \t Loss: 0.86396 [TEST] Epoch 2 \t Accuracy: 50207/60000 (83.67834%)\n",
      "[TRAIN] Epoch 3 \t Loss: 0.79146 [TEST] Epoch 3 \t Accuracy: 51230/60000 (85.38333%)\n"
     ]
    }
   ],
   "source": [
    "Epochs = 20\n",
    "\n",
    "for epoch in range(Epochs):\n",
    "    train(epoch+1)\n",
    "    test(epoch+1)"
   ]
  },
  {
   "cell_type": "markdown",
   "metadata": {},
   "source": [
    "<div class=\"alert alert-success\" data-title=\"\">\n",
    "  <h1><i class=\"fa fa-tasks\" aria-hidden=\"true\"></i> Exercise :  4 problems \n",
    "  </h1>\n",
    "</div>\n",
    "\n",
    "1. All Zeros\n",
    "2. Ones\n",
    "2. Using a uniform weight initialization(`nn.init.uniform_(m.weight)`), where low=0.0 and high=1.0. in `Linear`\n",
    "3. `torch.nn.init.xavier_uniform_ initialization` "
   ]
  }
 ],
 "metadata": {
  "hide_input": false,
  "kernelspec": {
   "display_name": "Python 3",
   "language": "python",
   "name": "python3"
  },
  "language_info": {
   "codemirror_mode": {
    "name": "ipython",
    "version": 3
   },
   "file_extension": ".py",
   "mimetype": "text/x-python",
   "name": "python",
   "nbconvert_exporter": "python",
   "pygments_lexer": "ipython3",
   "version": "3.7.6"
  },
  "toc": {
   "base_numbering": 1,
   "nav_menu": {},
   "number_sections": true,
   "sideBar": true,
   "skip_h1_title": true,
   "title_cell": "Table of Contents",
   "title_sidebar": "Contents",
   "toc_cell": true,
   "toc_position": {
    "height": "calc(100% - 180px)",
    "left": "10px",
    "top": "150px",
    "width": "546.903px"
   },
   "toc_section_display": true,
   "toc_window_display": false
  },
  "varInspector": {
   "cols": {
    "lenName": 16,
    "lenType": 16,
    "lenVar": 40
   },
   "kernels_config": {
    "python": {
     "delete_cmd_postfix": "",
     "delete_cmd_prefix": "del ",
     "library": "var_list.py",
     "varRefreshCmd": "print(var_dic_list())"
    },
    "r": {
     "delete_cmd_postfix": ") ",
     "delete_cmd_prefix": "rm(",
     "library": "var_list.r",
     "varRefreshCmd": "cat(var_dic_list()) "
    }
   },
   "types_to_exclude": [
    "module",
    "function",
    "builtin_function_or_method",
    "instance",
    "_Feature"
   ],
   "window_display": false
  }
 },
 "nbformat": 4,
 "nbformat_minor": 4
}
