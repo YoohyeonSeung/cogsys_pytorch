{
 "cells": [
  {
   "cell_type": "markdown",
   "metadata": {},
   "source": [
    "# Lec_02_Python_Basic\n",
    "\n",
    "<font size=5><b><b></font>\n",
    "<div align='right'> Hoe Sung Ryu ( 류 회 성 ) </div>\n",
    "<div align='right'> Minsuk Sung ( 성 민 석) </div>\n",
    "    \n",
    "<img src='https://miro.medium.com/max/2790/0*pvPJbzN5iXKYXO2u.jpg' width=50%>\n",
    "     \n",
    "    \n",
    "> Author: Hoe Sung Ryu, Minsuk Sung  <p>\n",
    "> Tel: 010-6636-7275 / skainf23@gamil.com // 010-5134-3621 / mssung94@gmail.com  <p>\n",
    "> 본 내용은 파이토치를 활용한 딥러닝 과외 자료입니다. 본 내용을 제작자의 동의없이 무단으로 복제하는 행위는 금합니다.\n",
    "    \n",
    "\n",
    "---\n",
    "\n",
    "Syllabus\n",
    "    \n",
    "|Event Type|Date|Topic|\n",
    "|--:|:---:|:---|\n",
    "|1 |July 27| Environment setting and Python basic|\n",
    "|2 |July 28| Pytorch basic and Custom Data load |\n",
    "|3 |July 29| Traditional Machine Learning(1) |\n",
    "|4 |July 30| Traditional Machine Learning(2) |\n",
    "|5 |July 31| CNN(Convolutional Neural Network)(1)  |\n",
    "|6 |Aug 03| CNN(Convolutional NeuralNetwork)(2) |\n",
    "|7 |Aug 04|  RNN(Recurrent Neural Networks)(1) |\n",
    "|8 |Aug 05|  RNN(Recurrent Neural Networks)(2) |\n",
    "|9 |Aug 06|  Transfer learning(VGG pertained on ImageNEt for CIfar-10)| \n",
    "|10|Aug 07|**Mini_Kaggle**: Facial Expression Recognition on `AffectNet` | \n",
    "|11|Aug 08|`Awards` and `Closing`| \n",
    "    \n",
    "    \n",
    "**If you are already familiar with the Python, please go to bottom and solve the problems** "
   ]
  },
  {
   "cell_type": "markdown",
   "metadata": {
    "toc": true
   },
   "source": [
    "<h1>Table of Contents<span class=\"tocSkip\"></span></h1>\n",
    "<div class=\"toc\"><ul class=\"toc-item\"><li><span><a href=\"#Python\" data-toc-modified-id=\"Python-1\"><span class=\"toc-item-num\">1&nbsp;&nbsp;</span>Python</a></span></li><li><span><a href=\"#Comments\" data-toc-modified-id=\"Comments-2\"><span class=\"toc-item-num\">2&nbsp;&nbsp;</span>Comments</a></span></li><li><span><a href=\"#Python-Data-Structures\" data-toc-modified-id=\"Python-Data-Structures-3\"><span class=\"toc-item-num\">3&nbsp;&nbsp;</span>Python Data Structures</a></span><ul class=\"toc-item\"><li><span><a href=\"#Assigning-Variables\" data-toc-modified-id=\"Assigning-Variables-3.1\"><span class=\"toc-item-num\">3.1&nbsp;&nbsp;</span>Assigning Variables</a></span></li><li><span><a href=\"#LIST\" data-toc-modified-id=\"LIST-3.2\"><span class=\"toc-item-num\">3.2&nbsp;&nbsp;</span>LIST</a></span><ul class=\"toc-item\"><li><span><a href=\"#An-example-list\" data-toc-modified-id=\"An-example-list-3.2.1\"><span class=\"toc-item-num\">3.2.1&nbsp;&nbsp;</span>An example list</a></span></li><li><span><a href=\"#List-indexing\" data-toc-modified-id=\"List-indexing-3.2.2\"><span class=\"toc-item-num\">3.2.2&nbsp;&nbsp;</span>List indexing</a></span></li><li><span><a href=\"#List-slicing\" data-toc-modified-id=\"List-slicing-3.2.3\"><span class=\"toc-item-num\">3.2.3&nbsp;&nbsp;</span>List slicing</a></span></li></ul></li><li><span><a href=\"#Consequences-of-pointers\" data-toc-modified-id=\"Consequences-of-pointers-3.3\"><span class=\"toc-item-num\">3.3&nbsp;&nbsp;</span>Consequences of pointers</a></span><ul class=\"toc-item\"><li><span><a href=\"#LISTCEPTION\" data-toc-modified-id=\"LISTCEPTION-3.3.1\"><span class=\"toc-item-num\">3.3.1&nbsp;&nbsp;</span>LISTCEPTION</a></span></li></ul></li><li><span><a href=\"#Tuple\" data-toc-modified-id=\"Tuple-3.4\"><span class=\"toc-item-num\">3.4&nbsp;&nbsp;</span>Tuple</a></span></li><li><span><a href=\"#Set\" data-toc-modified-id=\"Set-3.5\"><span class=\"toc-item-num\">3.5&nbsp;&nbsp;</span>Set</a></span></li><li><span><a href=\"#Dictionary\" data-toc-modified-id=\"Dictionary-3.6\"><span class=\"toc-item-num\">3.6&nbsp;&nbsp;</span>Dictionary</a></span></li></ul></li><li><span><a href=\"#If--statements\" data-toc-modified-id=\"If--statements-4\"><span class=\"toc-item-num\">4&nbsp;&nbsp;</span>If- statements</a></span></li><li><span><a href=\"#For-loop\" data-toc-modified-id=\"For-loop-5\"><span class=\"toc-item-num\">5&nbsp;&nbsp;</span>For loop</a></span><ul class=\"toc-item\"><li><span><a href=\"#Basic-for-loop\" data-toc-modified-id=\"Basic-for-loop-5.1\"><span class=\"toc-item-num\">5.1&nbsp;&nbsp;</span>Basic for loop</a></span></li><li><span><a href=\"#For-loop-Iterating-with-range()\" data-toc-modified-id=\"For-loop-Iterating-with-range()-5.2\"><span class=\"toc-item-num\">5.2&nbsp;&nbsp;</span>For loop Iterating with <code>range()</code></a></span></li></ul></li><li><span><a href=\"#Arithmetric--operator\" data-toc-modified-id=\"Arithmetric--operator-6\"><span class=\"toc-item-num\">6&nbsp;&nbsp;</span>Arithmetric  operator</a></span></li></ul></div>"
   ]
  },
  {
   "cell_type": "markdown",
   "metadata": {},
   "source": [
    "## Python\n",
    "\n",
    "이러한 파이썬의 주요 특징과 종류는 아래와 같다.  \n",
    "- 주요 특징\n",
    "    - 동적 타이핑(dynamic typing). (실행 시간에 자료형을 검사한다.)\n",
    "    - 객체의 멤버에 무제한으로 접근할 수 있다. (속성이나 전용의 메서드 훅을 만들어 제한할 수는 있음.)\n",
    "    - 모듈, 클래스, 객체와 같은 언어의 요소가 내부에서 접근할 수 있고, 리플렉션을 이용한 기술을 쓸 수 있다.\n",
    "\n",
    "- 해석 프로그램의 종류\n",
    "    - Cython: C로 작성된 인터프리터.\n",
    "    - 스택리스 파이썬: C 스택을 사용하지 않는 인터프리터.\n",
    "    - 자이썬: 자바 가상 머신 용 인터프리터. 과거에는 제이파이썬(JPython)이라고 불렸다.\n",
    "    - IronPython: .NET 플랫폼 용 인터프리터.\n",
    "    - PyPy: 파이썬으로 작성된 파이썬 인터프리터.\n",
    "\n",
    "출처: [위키백과](https://ko.wikipedia.org/wiki/%ED%8C%8C%EC%9D%B4%EC%8D%AC)"
   ]
  },
  {
   "cell_type": "markdown",
   "metadata": {},
   "source": [
    "## Comments \n",
    "```python\n",
    "\"\"\"\n",
    "This is a comment block in python \n",
    "Any line between the start and the end is part of the comment\n",
    "\n",
    "\"\"\"\n",
    "```"
   ]
  },
  {
   "cell_type": "markdown",
   "metadata": {},
   "source": [
    "---\n",
    "\n",
    "## Python Data Structures\n",
    "\n",
    "<img src='https://qph.fs.quoracdn.net/main-qimg-4761a814c720d865c7390e626a32d5f2' width=50%>\n",
    "\n",
    "\n",
    "|Structures|Order|Declare|example|\n",
    "|---|---|---|---|\n",
    "|List|Y|`[]`, `list()`|[5.7, 4, 'yes', [3,4]]|\n",
    "|Tuple|Y|`()`,`tuple()`|(5.7, 4, 'yes', (3,4))|\n",
    "|Set|N|`{}`, `set()`|{5.7, 4, 'yes'}|\n",
    "|Dictionary|N|`{}`, `dict()`|{'Jan':1, 'Feb':2}|"
   ]
  },
  {
   "cell_type": "markdown",
   "metadata": {},
   "source": [
    "### Assigning Variables \n",
    "\n",
    "```python \n",
    "# Variables can be easily assigned\n",
    "x = 10 # x is the integer 10 \n",
    "x = 10. # x is the floating point double precision \n",
    "x = 'variable' # x is now a string \n",
    "x = [0,1] # x is now a list  \n",
    "x = (0,1) # x is now a tuple \n",
    "\n",
    "```"
   ]
  },
  {
   "cell_type": "markdown",
   "metadata": {},
   "source": [
    "--- \n",
    "\n",
    "### LIST\n",
    "\n",
    "- basic ordered and mutable data collection\n",
    "- list can be any shape and contain any data type \n",
    "- `variable` can be added to a list by `.append()`\n",
    "- list can be sorted by `.sort()`\n",
    "- the number of items in list can be found with `len()`\n",
    "\n",
    "#### An example list "
   ]
  },
  {
   "cell_type": "code",
   "execution_count": 17,
   "metadata": {
    "ExecuteTime": {
     "end_time": "2020-07-26T13:29:50.271892Z",
     "start_time": "2020-07-26T13:29:50.268166Z"
    }
   },
   "outputs": [
    {
     "name": "stdout",
     "output_type": "stream",
     "text": [
      "[0.0, 1]\n"
     ]
    }
   ],
   "source": [
    "# initialize an empty list \n",
    "x = []\n",
    "x.append(0.0) # append float 0.0 to x\n",
    "x.append(1) # append integer 1 to x \n",
    "print(x) # print (x)"
   ]
  },
  {
   "cell_type": "code",
   "execution_count": 19,
   "metadata": {
    "ExecuteTime": {
     "end_time": "2020-07-26T13:30:58.024651Z",
     "start_time": "2020-07-26T13:30:58.021065Z"
    }
   },
   "outputs": [
    {
     "name": "stdout",
     "output_type": "stream",
     "text": [
      "There are 2 items in list x\n"
     ]
    }
   ],
   "source": [
    "# count the number of items in list x \n",
    "print(f'There are {len(x)} items in list x')"
   ]
  },
  {
   "cell_type": "markdown",
   "metadata": {},
   "source": [
    "#### List indexing \n",
    "\n",
    "In Python list start at **0**\n"
   ]
  },
  {
   "cell_type": "code",
   "execution_count": 22,
   "metadata": {
    "ExecuteTime": {
     "end_time": "2020-07-26T14:05:02.679937Z",
     "start_time": "2020-07-26T14:05:02.677316Z"
    }
   },
   "outputs": [],
   "source": [
    "# define list \n",
    "x = [7,77,777,7777]\n"
   ]
  },
  {
   "cell_type": "code",
   "execution_count": 23,
   "metadata": {
    "ExecuteTime": {
     "end_time": "2020-07-26T14:05:02.902775Z",
     "start_time": "2020-07-26T14:05:02.898869Z"
    }
   },
   "outputs": [
    {
     "data": {
      "text/plain": [
       "7"
      ]
     },
     "execution_count": 23,
     "metadata": {},
     "output_type": "execute_result"
    }
   ],
   "source": [
    "# the first item in the list can be called using \n",
    "x[0]"
   ]
  },
  {
   "cell_type": "code",
   "execution_count": 24,
   "metadata": {
    "ExecuteTime": {
     "end_time": "2020-07-26T14:05:03.060445Z",
     "start_time": "2020-07-26T14:05:03.056201Z"
    }
   },
   "outputs": [
    {
     "data": {
      "text/plain": [
       "7777"
      ]
     },
     "execution_count": 24,
     "metadata": {},
     "output_type": "execute_result"
    }
   ],
   "source": [
    "# the last item in the list can be called using \n",
    "x[-1]"
   ]
  },
  {
   "cell_type": "markdown",
   "metadata": {},
   "source": [
    "#### List slicing \n",
    "\n",
    "List slicing is [startPoint : endPoint] where starPint is in clusive and end Pint is exclusive. \n",
    "\n",
    "In mathematics would define the interval as `[startPoint, endPoint)`."
   ]
  },
  {
   "cell_type": "code",
   "execution_count": 25,
   "metadata": {
    "ExecuteTime": {
     "end_time": "2020-07-26T14:05:03.621315Z",
     "start_time": "2020-07-26T14:05:03.617592Z"
    }
   },
   "outputs": [
    {
     "data": {
      "text/plain": [
       "[7, 77]"
      ]
     },
     "execution_count": 25,
     "metadata": {},
     "output_type": "execute_result"
    }
   ],
   "source": [
    "# If we wanted the first and second item in a list.\n",
    "x[0:2]"
   ]
  },
  {
   "cell_type": "code",
   "execution_count": 26,
   "metadata": {
    "ExecuteTime": {
     "end_time": "2020-07-26T14:05:03.973768Z",
     "start_time": "2020-07-26T14:05:03.969014Z"
    }
   },
   "outputs": [
    {
     "data": {
      "text/plain": [
       "[77, 777, 7777]"
      ]
     },
     "execution_count": 26,
     "metadata": {},
     "output_type": "execute_result"
    }
   ],
   "source": [
    "# If we wanted the second through fourth item in list x.\n",
    "x[1:4]"
   ]
  },
  {
   "cell_type": "code",
   "execution_count": 27,
   "metadata": {
    "ExecuteTime": {
     "end_time": "2020-07-26T14:05:05.432975Z",
     "start_time": "2020-07-26T14:05:05.428858Z"
    }
   },
   "outputs": [
    {
     "data": {
      "text/plain": [
       "[7, 77]"
      ]
     },
     "execution_count": 27,
     "metadata": {},
     "output_type": "execute_result"
    }
   ],
   "source": [
    "# It we wanted the first through the second to last item \n",
    "x[0:-2]"
   ]
  },
  {
   "cell_type": "code",
   "execution_count": 42,
   "metadata": {
    "ExecuteTime": {
     "end_time": "2020-07-26T14:15:42.032656Z",
     "start_time": "2020-07-26T14:15:42.028105Z"
    }
   },
   "outputs": [
    {
     "data": {
      "text/plain": [
       "[7777, 777, 77, 7]"
      ]
     },
     "execution_count": 42,
     "metadata": {},
     "output_type": "execute_result"
    }
   ],
   "source": [
    "# reverse order of list we woudl run x[::-1]"
   ]
  },
  {
   "cell_type": "markdown",
   "metadata": {},
   "source": [
    "### Consequences of pointers \n",
    "\n",
    "**Be careful**\n"
   ]
  },
  {
   "cell_type": "code",
   "execution_count": 16,
   "metadata": {
    "ExecuteTime": {
     "end_time": "2020-07-26T13:11:54.845958Z",
     "start_time": "2020-07-26T13:11:54.842666Z"
    }
   },
   "outputs": [
    {
     "name": "stdout",
     "output_type": "stream",
     "text": [
      "[4, 2, 3]\n"
     ]
    }
   ],
   "source": [
    "x =[1,2,3]\n",
    "y = x\n",
    "x[0] = 4 \n",
    "print(y)"
   ]
  },
  {
   "cell_type": "code",
   "execution_count": 15,
   "metadata": {
    "ExecuteTime": {
     "end_time": "2020-07-26T13:11:49.015371Z",
     "start_time": "2020-07-26T13:11:49.011397Z"
    }
   },
   "outputs": [
    {
     "name": "stdout",
     "output_type": "stream",
     "text": [
      "[1, 2, 3]\n"
     ]
    }
   ],
   "source": [
    "x =[1,2,3]\n",
    "y = x.copy()\n",
    "x[0] = 4 \n",
    "print(y)"
   ]
  },
  {
   "cell_type": "markdown",
   "metadata": {},
   "source": [
    "#### LISTCEPTION\n",
    "<img src=https://memegenerator.net/img/instances/14012819.jpg>\n",
    "\n",
    "```python\n",
    "odd = [1,3,5,7,9] # normal list\n",
    "\n",
    "nested_list = [1,[2,[3,4,[5,6,7]]]] # list in list\n",
    "\n",
    "chaos_list = ['1', 2 , {2,3}, (1,2)] # mix data type \n",
    "\n",
    "```\n"
   ]
  },
  {
   "cell_type": "code",
   "execution_count": null,
   "metadata": {},
   "outputs": [],
   "source": [
    "nested_list = [1,[2,[3,4,[5,6,7]]]]\n",
    "nested_list"
   ]
  },
  {
   "cell_type": "code",
   "execution_count": null,
   "metadata": {},
   "outputs": [],
   "source": [
    "nested_list[0]"
   ]
  },
  {
   "cell_type": "code",
   "execution_count": null,
   "metadata": {},
   "outputs": [],
   "source": [
    "nested_list[1]"
   ]
  },
  {
   "cell_type": "code",
   "execution_count": null,
   "metadata": {},
   "outputs": [],
   "source": [
    "nested_list[1][0]"
   ]
  },
  {
   "cell_type": "code",
   "execution_count": null,
   "metadata": {},
   "outputs": [],
   "source": [
    "chaos_list = ['1', 2 , {2,3}, (1,2)]\n",
    "chaos_list"
   ]
  },
  {
   "cell_type": "markdown",
   "metadata": {},
   "source": [
    "### Tuple \n",
    "\n",
    "Tuples are just like lists, except you define a tuple with parentheses insted of square brackets. \n",
    "\n",
    "However, Tuples are immutable which means that once they are created they can not be modified in any way. "
   ]
  },
  {
   "cell_type": "code",
   "execution_count": null,
   "metadata": {
    "ExecuteTime": {
     "end_time": "2020-07-26T14:07:56.723428Z",
     "start_time": "2020-07-26T14:07:56.703230Z"
    }
   },
   "outputs": [],
   "source": [
    "t = (1,3,5,7,9)"
   ]
  },
  {
   "cell_type": "code",
   "execution_count": 31,
   "metadata": {
    "ExecuteTime": {
     "end_time": "2020-07-26T14:08:17.245659Z",
     "start_time": "2020-07-26T14:08:17.241245Z"
    }
   },
   "outputs": [
    {
     "data": {
      "text/plain": [
       "1"
      ]
     },
     "execution_count": 31,
     "metadata": {},
     "output_type": "execute_result"
    }
   ],
   "source": [
    "# indexing \n",
    "t[0]"
   ]
  },
  {
   "cell_type": "code",
   "execution_count": 30,
   "metadata": {
    "ExecuteTime": {
     "end_time": "2020-07-26T14:08:13.384458Z",
     "start_time": "2020-07-26T14:08:13.380416Z"
    }
   },
   "outputs": [
    {
     "data": {
      "text/plain": [
       "(1, 3)"
      ]
     },
     "execution_count": 30,
     "metadata": {},
     "output_type": "execute_result"
    }
   ],
   "source": [
    "# slicing \n",
    "t[0:2]"
   ]
  },
  {
   "cell_type": "code",
   "execution_count": 28,
   "metadata": {
    "ExecuteTime": {
     "end_time": "2020-07-26T14:07:56.723428Z",
     "start_time": "2020-07-26T14:07:56.703230Z"
    }
   },
   "outputs": [
    {
     "ename": "TypeError",
     "evalue": "'tuple' object does not support item assignment",
     "output_type": "error",
     "traceback": [
      "\u001b[0;31m---------------------------------------------------------------------------\u001b[0m",
      "\u001b[0;31mTypeError\u001b[0m                                 Traceback (most recent call last)",
      "\u001b[0;32m<ipython-input-28-8baa81a0170b>\u001b[0m in \u001b[0;36m<module>\u001b[0;34m\u001b[0m\n\u001b[1;32m      1\u001b[0m \u001b[0mt\u001b[0m \u001b[0;34m=\u001b[0m \u001b[0;34m(\u001b[0m\u001b[0;36m1\u001b[0m\u001b[0;34m,\u001b[0m\u001b[0;36m3\u001b[0m\u001b[0;34m,\u001b[0m\u001b[0;36m5\u001b[0m\u001b[0;34m,\u001b[0m\u001b[0;36m7\u001b[0m\u001b[0;34m,\u001b[0m\u001b[0;36m9\u001b[0m\u001b[0;34m)\u001b[0m\u001b[0;34m\u001b[0m\u001b[0;34m\u001b[0m\u001b[0m\n\u001b[1;32m      2\u001b[0m \u001b[0;34m\u001b[0m\u001b[0m\n\u001b[0;32m----> 3\u001b[0;31m \u001b[0mt\u001b[0m\u001b[0;34m[\u001b[0m\u001b[0;36m0\u001b[0m\u001b[0;34m]\u001b[0m \u001b[0;34m=\u001b[0m \u001b[0;34m-\u001b[0m\u001b[0;36m1\u001b[0m \u001b[0;31m# immutable\u001b[0m\u001b[0;34m\u001b[0m\u001b[0;34m\u001b[0m\u001b[0m\n\u001b[0m",
      "\u001b[0;31mTypeError\u001b[0m: 'tuple' object does not support item assignment"
     ]
    }
   ],
   "source": [
    "t[0] = -1 # immutable"
   ]
  },
  {
   "cell_type": "markdown",
   "metadata": {},
   "source": [
    "### Set \n",
    "\n",
    "Sets are like lists and tuples , but are defined with curly brackets. \n",
    "Sets obey mathmatical set definitions.\n",
    "\n",
    "- Intersection: `&` \n",
    "- Union: `|` or `union`\n",
    "- difference: `-` or `difference`\n",
    "- symmetric_difference: `symmetric_difference`"
   ]
  },
  {
   "cell_type": "code",
   "execution_count": 32,
   "metadata": {
    "ExecuteTime": {
     "end_time": "2020-07-26T14:11:56.999227Z",
     "start_time": "2020-07-26T14:11:56.995996Z"
    }
   },
   "outputs": [],
   "source": [
    "# defince A, B \n",
    "A = {1,2,3,4,5,6}\n",
    "B = {4,5,6,7,8,9}"
   ]
  },
  {
   "cell_type": "code",
   "execution_count": 33,
   "metadata": {
    "ExecuteTime": {
     "end_time": "2020-07-26T14:12:03.950037Z",
     "start_time": "2020-07-26T14:12:03.946289Z"
    }
   },
   "outputs": [
    {
     "data": {
      "text/plain": [
       "{4, 5, 6, 7, 8, 9}"
      ]
     },
     "execution_count": 33,
     "metadata": {},
     "output_type": "execute_result"
    }
   ],
   "source": [
    "# intersection \n",
    "A&B"
   ]
  },
  {
   "cell_type": "code",
   "execution_count": 36,
   "metadata": {
    "ExecuteTime": {
     "end_time": "2020-07-26T14:13:07.082850Z",
     "start_time": "2020-07-26T14:13:07.079052Z"
    }
   },
   "outputs": [
    {
     "data": {
      "text/plain": [
       "{1, 2, 3, 4, 5, 6, 7, 8, 9}"
      ]
     },
     "execution_count": 36,
     "metadata": {},
     "output_type": "execute_result"
    }
   ],
   "source": [
    "# union \n",
    "A |B"
   ]
  },
  {
   "cell_type": "code",
   "execution_count": 38,
   "metadata": {
    "ExecuteTime": {
     "end_time": "2020-07-26T14:13:24.287107Z",
     "start_time": "2020-07-26T14:13:24.282986Z"
    }
   },
   "outputs": [
    {
     "data": {
      "text/plain": [
       "{1, 2, 3, 4, 5, 6, 7, 8, 9}"
      ]
     },
     "execution_count": 38,
     "metadata": {},
     "output_type": "execute_result"
    }
   ],
   "source": [
    "A.union(B)"
   ]
  },
  {
   "cell_type": "code",
   "execution_count": 40,
   "metadata": {
    "ExecuteTime": {
     "end_time": "2020-07-26T14:14:54.009356Z",
     "start_time": "2020-07-26T14:14:54.005510Z"
    }
   },
   "outputs": [
    {
     "data": {
      "text/plain": [
       "{1, 2, 3}"
      ]
     },
     "execution_count": 40,
     "metadata": {},
     "output_type": "execute_result"
    }
   ],
   "source": [
    "# difference \n",
    "A-B"
   ]
  },
  {
   "cell_type": "code",
   "execution_count": 41,
   "metadata": {
    "ExecuteTime": {
     "end_time": "2020-07-26T14:15:01.578927Z",
     "start_time": "2020-07-26T14:15:01.575071Z"
    }
   },
   "outputs": [
    {
     "data": {
      "text/plain": [
       "{1, 2, 3}"
      ]
     },
     "execution_count": 41,
     "metadata": {},
     "output_type": "execute_result"
    }
   ],
   "source": [
    "A.difference(B)"
   ]
  },
  {
   "cell_type": "code",
   "execution_count": 43,
   "metadata": {
    "ExecuteTime": {
     "end_time": "2020-07-26T14:18:00.046643Z",
     "start_time": "2020-07-26T14:18:00.042522Z"
    }
   },
   "outputs": [
    {
     "data": {
      "text/plain": [
       "{1, 2, 3, 7, 8, 9}"
      ]
     },
     "execution_count": 43,
     "metadata": {},
     "output_type": "execute_result"
    }
   ],
   "source": [
    "# symmetric_difference\n",
    "A.symmetric_difference(B)"
   ]
  },
  {
   "cell_type": "markdown",
   "metadata": {},
   "source": [
    "### Dictionary\n",
    "\n",
    "Dictionaries map `keys` to `values`. There is no index with dictionaries, instead there is a key. "
   ]
  },
  {
   "cell_type": "code",
   "execution_count": 45,
   "metadata": {
    "ExecuteTime": {
     "end_time": "2020-07-26T14:21:57.225143Z",
     "start_time": "2020-07-26T14:21:57.221894Z"
    }
   },
   "outputs": [],
   "source": [
    "# define dictionary \n",
    "d = {'k1':7,'k2':(3,'b'),'k3':[1,3,6]}\n"
   ]
  },
  {
   "cell_type": "code",
   "execution_count": 47,
   "metadata": {
    "ExecuteTime": {
     "end_time": "2020-07-26T14:22:01.752168Z",
     "start_time": "2020-07-26T14:22:01.748277Z"
    }
   },
   "outputs": [
    {
     "data": {
      "text/plain": [
       "7"
      ]
     },
     "execution_count": 47,
     "metadata": {},
     "output_type": "execute_result"
    }
   ],
   "source": [
    "# call value\n",
    "d['k1']"
   ]
  },
  {
   "cell_type": "code",
   "execution_count": 48,
   "metadata": {
    "ExecuteTime": {
     "end_time": "2020-07-26T14:22:38.082541Z",
     "start_time": "2020-07-26T14:22:38.078303Z"
    }
   },
   "outputs": [
    {
     "data": {
      "text/plain": [
       "{'k1': 7, 'k2': (3, 'b'), 'k3': [1, 3, 6], 'add': 4}"
      ]
     },
     "execution_count": 48,
     "metadata": {},
     "output_type": "execute_result"
    }
   ],
   "source": [
    "# add \n",
    "d['add'] = 4 \n",
    "d "
   ]
  },
  {
   "cell_type": "code",
   "execution_count": 49,
   "metadata": {
    "ExecuteTime": {
     "end_time": "2020-07-26T14:23:31.741575Z",
     "start_time": "2020-07-26T14:23:31.737481Z"
    }
   },
   "outputs": [
    {
     "data": {
      "text/plain": [
       "{'k1': 10, 'k2': (3, 'b'), 'k3': [1, 3, 6], 'add': 4}"
      ]
     },
     "execution_count": 49,
     "metadata": {},
     "output_type": "execute_result"
    }
   ],
   "source": [
    "# change value \n",
    "d['k1'] = 10\n",
    "d"
   ]
  },
  {
   "cell_type": "code",
   "execution_count": 53,
   "metadata": {
    "ExecuteTime": {
     "end_time": "2020-07-26T14:25:23.943289Z",
     "start_time": "2020-07-26T14:25:23.938766Z"
    }
   },
   "outputs": [
    {
     "data": {
      "text/plain": [
       "{'k1': 10,\n",
       " 'k2': (3, 'b'),\n",
       " 'k3': [1, 3, 6],\n",
       " 'add': 4,\n",
       " ('x1', 'x2'): ('x1', 'x2')}"
      ]
     },
     "execution_count": 53,
     "metadata": {},
     "output_type": "execute_result"
    }
   ],
   "source": [
    "# list can not be used in List but tuple can be use. \n",
    "d[('x1','x2')] = ('x1','x2')\n",
    "d"
   ]
  },
  {
   "cell_type": "code",
   "execution_count": 54,
   "metadata": {
    "ExecuteTime": {
     "end_time": "2020-07-26T14:25:42.185436Z",
     "start_time": "2020-07-26T14:25:42.177955Z"
    }
   },
   "outputs": [
    {
     "ename": "TypeError",
     "evalue": "unhashable type: 'list'",
     "output_type": "error",
     "traceback": [
      "\u001b[0;31m---------------------------------------------------------------------------\u001b[0m",
      "\u001b[0;31mTypeError\u001b[0m                                 Traceback (most recent call last)",
      "\u001b[0;32m<ipython-input-54-6fb545431798>\u001b[0m in \u001b[0;36m<module>\u001b[0;34m\u001b[0m\n\u001b[0;32m----> 1\u001b[0;31m \u001b[0md\u001b[0m\u001b[0;34m[\u001b[0m\u001b[0;34m[\u001b[0m\u001b[0;34m'x1'\u001b[0m\u001b[0;34m,\u001b[0m\u001b[0;34m'x2'\u001b[0m\u001b[0;34m]\u001b[0m\u001b[0;34m]\u001b[0m \u001b[0;34m=\u001b[0m \u001b[0;34m(\u001b[0m\u001b[0;34m'x1'\u001b[0m\u001b[0;34m,\u001b[0m\u001b[0;34m'x2'\u001b[0m\u001b[0;34m)\u001b[0m\u001b[0;34m\u001b[0m\u001b[0;34m\u001b[0m\u001b[0m\n\u001b[0m\u001b[1;32m      2\u001b[0m \u001b[0md\u001b[0m\u001b[0;34m\u001b[0m\u001b[0;34m\u001b[0m\u001b[0m\n",
      "\u001b[0;31mTypeError\u001b[0m: unhashable type: 'list'"
     ]
    }
   ],
   "source": [
    "d[['x1','x2']] = ('x1','x2')\n",
    "d"
   ]
  },
  {
   "cell_type": "markdown",
   "metadata": {},
   "source": [
    "## If- statements\n",
    "\n",
    "Let's take a look at a if, elif and else statement. \n",
    "\n",
    "**Be careful** \n",
    "- In Python, code blocks are denoted by indentation. \n",
    "- the recommendation is that you use `four spaces` to denote an indent"
   ]
  },
  {
   "cell_type": "code",
   "execution_count": 67,
   "metadata": {
    "ExecuteTime": {
     "end_time": "2020-07-26T14:35:21.381766Z",
     "start_time": "2020-07-26T14:35:19.873159Z"
    }
   },
   "outputs": [
    {
     "name": "stdout",
     "output_type": "stream",
     "text": [
      "please insert number1\n",
      "1 is a Positive number\n"
     ]
    }
   ],
   "source": [
    "x = int(input('please insert number'))\n",
    "\n",
    "if x<0:\n",
    "    print(x, 'is a Negative number')\n",
    "elif x==0:\n",
    "    print('x is zero')\n",
    "else:\n",
    "    print(x, 'is a Positive number')"
   ]
  },
  {
   "cell_type": "markdown",
   "metadata": {},
   "source": [
    "## For loop \n",
    "\n",
    "### Basic for loop "
   ]
  },
  {
   "cell_type": "code",
   "execution_count": null,
   "metadata": {},
   "outputs": [],
   "source": [
    "total = 0 \n",
    "for i in range(100):\n",
    "    # total = total +i \n",
    "    total += i "
   ]
  },
  {
   "cell_type": "markdown",
   "metadata": {},
   "source": [
    "### For loop Iterating with `range()`"
   ]
  },
  {
   "cell_type": "code",
   "execution_count": null,
   "metadata": {},
   "outputs": [],
   "source": [
    "total = 0 \n",
    "for i in range(100):\n",
    "    # total = total +i \n",
    "    total += i "
   ]
  },
  {
   "cell_type": "markdown",
   "metadata": {},
   "source": [
    "## Arithmetric  operator\n",
    "\n",
    "- addition: `+`\n",
    "- substraction: `-`\n",
    "- multiplication: `*`\n",
    "- power: `**`\n",
    "- division: `/`\n",
    "- mod: `%`\n",
    "- absolute value: `abs`"
   ]
  },
  {
   "cell_type": "code",
   "execution_count": null,
   "metadata": {},
   "outputs": [],
   "source": [
    "# Addition: 3 + 5\n",
    "3+ 5 "
   ]
  },
  {
   "cell_type": "code",
   "execution_count": null,
   "metadata": {},
   "outputs": [],
   "source": [
    "# Substraction: \n",
    "3 - 5"
   ]
  },
  {
   "cell_type": "code",
   "execution_count": 68,
   "metadata": {
    "ExecuteTime": {
     "end_time": "2020-07-26T14:37:43.235556Z",
     "start_time": "2020-07-26T14:37:43.232148Z"
    }
   },
   "outputs": [
    {
     "data": {
      "text/plain": [
       "15"
      ]
     },
     "execution_count": 68,
     "metadata": {},
     "output_type": "execute_result"
    }
   ],
   "source": [
    "# Multiplication: 3x5\n",
    "3*5"
   ]
  },
  {
   "cell_type": "code",
   "execution_count": 72,
   "metadata": {
    "ExecuteTime": {
     "end_time": "2020-07-26T14:38:24.276418Z",
     "start_time": "2020-07-26T14:38:24.272649Z"
    }
   },
   "outputs": [
    {
     "data": {
      "text/plain": [
       "16"
      ]
     },
     "execution_count": 72,
     "metadata": {},
     "output_type": "execute_result"
    }
   ],
   "source": [
    "# Power: $2^4$\n",
    "2**4"
   ]
  },
  {
   "cell_type": "code",
   "execution_count": 71,
   "metadata": {
    "ExecuteTime": {
     "end_time": "2020-07-26T14:38:22.668313Z",
     "start_time": "2020-07-26T14:38:22.664484Z"
    }
   },
   "outputs": [
    {
     "data": {
      "text/plain": [
       "1"
      ]
     },
     "execution_count": 71,
     "metadata": {},
     "output_type": "execute_result"
    }
   ],
   "source": [
    "# mod: mode(5,2)\n",
    "5%2"
   ]
  },
  {
   "cell_type": "code",
   "execution_count": 70,
   "metadata": {
    "ExecuteTime": {
     "end_time": "2020-07-26T14:38:20.813288Z",
     "start_time": "2020-07-26T14:38:20.809321Z"
    }
   },
   "outputs": [
    {
     "data": {
      "text/plain": [
       "10"
      ]
     },
     "execution_count": 70,
     "metadata": {},
     "output_type": "execute_result"
    }
   ],
   "source": [
    "# Absoulte value |-10|\n",
    "abs(-10)"
   ]
  },
  {
   "cell_type": "markdown",
   "metadata": {},
   "source": [
    "<div class=\"alert alert-success\" data-title=\"\">\n",
    "  <h1><i class=\"fa fa-tasks\" aria-hidden=\"true\"></i> Exercise :  7 problems \n",
    "  </h1>\n",
    "</div>\n",
    "\n",
    "\n",
    "Q1. You are given a list $x=[1,2,3,4,5,6]$. \n",
    "    Print(the third items in list x\n",
    "\n",
    "---\n",
    "\n",
    "Q2. Print the reversed order of list $x=[1,2,3,4,5,6]$\n",
    "\n",
    "--- \n",
    "\n",
    "Q3. Given a list iterate it and display numbers which are divisible by $5$ \n",
    "\n",
    "- List = [12, 15, 32, 42, 55, 75, 122, 132]\n",
    "    \n",
    "---\n",
    "\n",
    "Q4. Print the following pattern:\n",
    "```\n",
    "    1 \n",
    "    1 2 \n",
    "    1 2 3 \n",
    "    1 2 3 4 \n",
    "    1 2 3 4 5\n",
    "```\n",
    "\n",
    "---\n",
    "\n",
    "Q5. Print the following pattern:\n",
    "\n",
    "```\n",
    "    5 4 3 2 1 \n",
    "    4 3 2 1 \n",
    "    3 2 1 \n",
    "    2 1 \n",
    "    1\n",
    "    \n",
    "    \n",
    "```\n",
    "\n",
    "---\n",
    "\n",
    "Q6. The Fibonacci sequence is defined as below:\n",
    "$$F_n = F_{n-1} + F_{n-2}$$\n",
    "\n",
    "where $n$ denotes the $n^\\text{th}$ item of the Fibonacci sequence. You are given the first three numbers of the Fibonacci sequence as F = [0, 1, 1]. Create a for loop to determine the next 20 numbers of the Fibonacci sequence. Print F with the final 23 numbers. \n",
    "\n",
    "_Hint: use F.append() to add a new Fibonacci value to the end of the list F._\n",
    "\n",
    "---\n",
    "\n",
    "Q7. Given the list $x = [2.0,3.0,5.0,7.0,9.0]$, create a list $Y(x)$ for each float in x. Print the list $Y$.\n",
    "$$Y(x) = \\frac{(3.0x)^2}{(99x - x^3)} - \\frac{1}{x}$$\n",
    "\n",
    "---\n"
   ]
  },
  {
   "cell_type": "code",
   "execution_count": null,
   "metadata": {},
   "outputs": [],
   "source": [
    "# TODO_ "
   ]
  },
  {
   "cell_type": "code",
   "execution_count": null,
   "metadata": {},
   "outputs": [],
   "source": []
  }
 ],
 "metadata": {
  "hide_input": false,
  "kernelspec": {
   "display_name": "Python 3",
   "language": "python",
   "name": "python3"
  },
  "language_info": {
   "codemirror_mode": {
    "name": "ipython",
    "version": 3
   },
   "file_extension": ".py",
   "mimetype": "text/x-python",
   "name": "python",
   "nbconvert_exporter": "python",
   "pygments_lexer": "ipython3",
   "version": "3.7.6"
  },
  "toc": {
   "base_numbering": 1,
   "nav_menu": {},
   "number_sections": true,
   "sideBar": true,
   "skip_h1_title": true,
   "title_cell": "Table of Contents",
   "title_sidebar": "Contents",
   "toc_cell": true,
   "toc_position": {},
   "toc_section_display": true,
   "toc_window_display": false
  },
  "varInspector": {
   "cols": {
    "lenName": 16,
    "lenType": 16,
    "lenVar": 40
   },
   "kernels_config": {
    "python": {
     "delete_cmd_postfix": "",
     "delete_cmd_prefix": "del ",
     "library": "var_list.py",
     "varRefreshCmd": "print(var_dic_list())"
    },
    "r": {
     "delete_cmd_postfix": ") ",
     "delete_cmd_prefix": "rm(",
     "library": "var_list.r",
     "varRefreshCmd": "cat(var_dic_list()) "
    }
   },
   "types_to_exclude": [
    "module",
    "function",
    "builtin_function_or_method",
    "instance",
    "_Feature"
   ],
   "window_display": false
  }
 },
 "nbformat": 4,
 "nbformat_minor": 4
}
